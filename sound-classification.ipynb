{
 "cells": [
  {
   "cell_type": "markdown",
   "id": "488dcec6",
   "metadata": {},
   "source": [
    "# Human Non-Speech Sound Classification\n",
    "[INTRODUCTION TO THE PROBLEM HERE]\n",
    "\n",
    "### Datasets\n",
    "[DATASET DESCRIPTION HERE]\n",
    "\n",
    "\n",
    "### Tasks\n",
    "[TASK HERE]\n",
    "\n",
    "### Integrants:\n",
    "Name, Matricola, Email respectively\n",
    "- Santiago Víquez Segura, 2048722, santiago.viquezsegura@studenti.unipd.it\n",
    "- Ivan Padezhki, XXXX, XXXX"
   ]
  },
  {
   "cell_type": "markdown",
   "id": "e30dfbe0",
   "metadata": {},
   "source": [
    "## Dependencies"
   ]
  },
  {
   "cell_type": "code",
   "execution_count": 39,
   "id": "cfb8770f",
   "metadata": {},
   "outputs": [],
   "source": [
    "import os\n",
    "import shutil\n",
    "import urllib.request\n",
    "import zipfile\n",
    "import glob\n",
    "import pandas as pd\n",
    "import numpy as np"
   ]
  },
  {
   "cell_type": "markdown",
   "id": "362dbcfc",
   "metadata": {},
   "source": [
    "## Download Dataset"
   ]
  },
  {
   "cell_type": "code",
   "execution_count": 27,
   "id": "a576278a",
   "metadata": {},
   "outputs": [],
   "source": [
    "def download_dataset(name):\n",
    "    \"\"\"\n",
    "    Download the dataset into current working directory.\n",
    "    \n",
    "    Originally taken from https://nbviewer.org/github/karoldvl/paper-2015-esc-dataset/blob/\n",
    "    master/Notebook/ESC-Dataset-for-Environmental-Sound-Classification.ipynb#Setup\n",
    "    Additional modifications were applied to make it work with Python 3\n",
    "    \"\"\"\n",
    "    if not os.path.exists(name):\n",
    "        os.mkdir(name)\n",
    "        urllib.request.urlretrieve(f'https://github.com/karoldvl/{name}/archive/master.zip', f'{name}/{name}.zip')\n",
    "\n",
    "        with zipfile.ZipFile(f'{name}/{name}.zip') as package:\n",
    "            package.extractall(f'{name}/')\n",
    "\n",
    "        os.unlink(f'{name}/{name}.zip')        \n",
    "\n",
    "        for src in glob.glob(f'{name}/{name}-master/*'):\n",
    "            shutil.move(src, '{0}/{1}'.format(name, os.path.basename(src)))\n",
    "\n",
    "        shutil.rmtree(f'{name}/{name}-master')\n",
    "\n",
    "download_dataset('ESC-50')"
   ]
  },
  {
   "cell_type": "code",
   "execution_count": 53,
   "id": "172babdb",
   "metadata": {},
   "outputs": [
    {
     "name": "stdout",
     "output_type": "stream",
     "text": [
      "LICENSE           \u001b[1m\u001b[36maudio\u001b[m\u001b[m/            \u001b[1m\u001b[36mmeta\u001b[m\u001b[m/             requirements.txt\r\n",
      "README.md         esc50.gif         pytest.ini        \u001b[1m\u001b[36mtests\u001b[m\u001b[m/\r\n"
     ]
    }
   ],
   "source": [
    "ls ESC-50"
   ]
  },
  {
   "cell_type": "markdown",
   "id": "714758f8",
   "metadata": {},
   "source": [
    "## Sample Dataset: Non-Speech Human Sounds"
   ]
  },
  {
   "cell_type": "code",
   "execution_count": 50,
   "id": "8be321ca",
   "metadata": {},
   "outputs": [],
   "source": [
    "esc50 = pd.read_csv(\"ESC-50/meta/esc50.csv\")\n",
    "\n",
    "human_cats = ['crying_baby', 'sneezing', 'clapping', \n",
    "              'breathing', 'coughing', 'footsteps', \n",
    "              'laughing', 'brushing_teeth', 'snoring', \n",
    "              'drinking_sipping']\n",
    "\n",
    "esc50_human = esc50[esc50[\"category\"].isin(human_cats)]"
   ]
  },
  {
   "cell_type": "code",
   "execution_count": 52,
   "id": "0787e2a6",
   "metadata": {},
   "outputs": [
    {
     "data": {
      "text/html": [
       "<div>\n",
       "<style scoped>\n",
       "    .dataframe tbody tr th:only-of-type {\n",
       "        vertical-align: middle;\n",
       "    }\n",
       "\n",
       "    .dataframe tbody tr th {\n",
       "        vertical-align: top;\n",
       "    }\n",
       "\n",
       "    .dataframe thead th {\n",
       "        text-align: right;\n",
       "    }\n",
       "</style>\n",
       "<table border=\"1\" class=\"dataframe\">\n",
       "  <thead>\n",
       "    <tr style=\"text-align: right;\">\n",
       "      <th></th>\n",
       "      <th>filename</th>\n",
       "      <th>fold</th>\n",
       "      <th>target</th>\n",
       "      <th>category</th>\n",
       "      <th>esc10</th>\n",
       "      <th>src_file</th>\n",
       "      <th>take</th>\n",
       "    </tr>\n",
       "  </thead>\n",
       "  <tbody>\n",
       "    <tr>\n",
       "      <th>11</th>\n",
       "      <td>1-104089-A-22.wav</td>\n",
       "      <td>1</td>\n",
       "      <td>22</td>\n",
       "      <td>clapping</td>\n",
       "      <td>False</td>\n",
       "      <td>104089</td>\n",
       "      <td>A</td>\n",
       "    </tr>\n",
       "    <tr>\n",
       "      <th>12</th>\n",
       "      <td>1-104089-B-22.wav</td>\n",
       "      <td>1</td>\n",
       "      <td>22</td>\n",
       "      <td>clapping</td>\n",
       "      <td>False</td>\n",
       "      <td>104089</td>\n",
       "      <td>B</td>\n",
       "    </tr>\n",
       "    <tr>\n",
       "      <th>13</th>\n",
       "      <td>1-105224-A-22.wav</td>\n",
       "      <td>1</td>\n",
       "      <td>22</td>\n",
       "      <td>clapping</td>\n",
       "      <td>False</td>\n",
       "      <td>105224</td>\n",
       "      <td>A</td>\n",
       "    </tr>\n",
       "    <tr>\n",
       "      <th>15</th>\n",
       "      <td>1-110537-A-22.wav</td>\n",
       "      <td>1</td>\n",
       "      <td>22</td>\n",
       "      <td>clapping</td>\n",
       "      <td>False</td>\n",
       "      <td>110537</td>\n",
       "      <td>A</td>\n",
       "    </tr>\n",
       "    <tr>\n",
       "      <th>21</th>\n",
       "      <td>1-115920-A-22.wav</td>\n",
       "      <td>1</td>\n",
       "      <td>22</td>\n",
       "      <td>clapping</td>\n",
       "      <td>False</td>\n",
       "      <td>115920</td>\n",
       "      <td>A</td>\n",
       "    </tr>\n",
       "  </tbody>\n",
       "</table>\n",
       "</div>"
      ],
      "text/plain": [
       "             filename  fold  target  category  esc10  src_file take\n",
       "11  1-104089-A-22.wav     1      22  clapping  False    104089    A\n",
       "12  1-104089-B-22.wav     1      22  clapping  False    104089    B\n",
       "13  1-105224-A-22.wav     1      22  clapping  False    105224    A\n",
       "15  1-110537-A-22.wav     1      22  clapping  False    110537    A\n",
       "21  1-115920-A-22.wav     1      22  clapping  False    115920    A"
      ]
     },
     "execution_count": 52,
     "metadata": {},
     "output_type": "execute_result"
    }
   ],
   "source": [
    "esc50_human.head()"
   ]
  }
 ],
 "metadata": {
  "kernelspec": {
   "display_name": "Python (ml)",
   "language": "python",
   "name": "myenv"
  },
  "language_info": {
   "codemirror_mode": {
    "name": "ipython",
    "version": 3
   },
   "file_extension": ".py",
   "mimetype": "text/x-python",
   "name": "python",
   "nbconvert_exporter": "python",
   "pygments_lexer": "ipython3",
   "version": "3.7.4"
  }
 },
 "nbformat": 4,
 "nbformat_minor": 5
}
