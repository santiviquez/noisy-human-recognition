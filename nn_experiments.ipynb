{
 "cells": [
  {
   "cell_type": "markdown",
   "id": "5e2b4e31",
   "metadata": {
    "colab_type": "text",
    "id": "view-in-github"
   },
   "source": [
    "<a href=\"https://colab.research.google.com/github/santiviquez/noisy-human-recognition/blob/main/nn_experiments.ipynb" target=\"_parent\"><img src=\"https://colab.research.google.com/assets/colab-badge.svg\" alt=\"Open In Colab\"/></a>"
   ]
  },
  {
   "cell_type": "markdown",
   "id": "d3ce7514",
   "metadata": {
    "id": "d3ce7514"
   },
   "source": [
    "# NN Experiments"
   ]
  },
  {
   "cell_type": "markdown",
   "id": "517954d9",
   "metadata": {
    "id": "517954d9"
   },
   "source": [
    "## Dependencies"
   ]
  },
  {
   "cell_type": "code",
   "execution_count": 1,
   "id": "03492430",
   "metadata": {
    "id": "03492430"
   },
   "outputs": [],
   "source": [
    "import os\n",
    "import shutil\n",
    "import urllib.request\n",
    "import zipfile\n",
    "import glob\n",
    "import pandas as pd\n",
    "import numpy as np\n",
    "import IPython.display\n",
    "import matplotlib.pyplot as plt\n",
    "import numpy as np\n",
    "import wave\n",
    "import sys\n",
    "import librosa\n",
    "import librosa.display\n",
    "from sklearn.ensemble import RandomForestClassifier\n",
    "from sklearn.model_selection import GridSearchCV\n",
    "from sklearn.metrics import accuracy_score\n",
    "from sklearn import svm\n",
    "import xgboost as xgb\n",
    "import time\n",
    "import seaborn as sns"
   ]
  },
  {
   "cell_type": "markdown",
   "id": "91a8e613",
   "metadata": {
    "id": "91a8e613"
   },
   "source": [
    "## Download Dataset"
   ]
  },
  {
   "cell_type": "code",
   "execution_count": 2,
   "id": "75507a5b",
   "metadata": {
    "id": "75507a5b"
   },
   "outputs": [],
   "source": [
    "def download_dataset(name):\n",
    "    \"\"\"\n",
    "    Download the dataset into current working directory.\n",
    "    \n",
    "    Originally taken from https://nbviewer.org/github/karoldvl/paper-2015-esc-dataset/blob/\n",
    "    master/Notebook/ESC-Dataset-for-Environmental-Sound-Classification.ipynb#Setup\n",
    "    Additional modifications were applied to make it work with Python 3\n",
    "    \"\"\"\n",
    "    if not os.path.exists(name):\n",
    "        os.mkdir(name)\n",
    "        urllib.request.urlretrieve(f'https://github.com/karoldvl/{name}/archive/master.zip', f'{name}/{name}.zip')\n",
    "\n",
    "        with zipfile.ZipFile(f'{name}/{name}.zip') as package:\n",
    "            package.extractall(f'{name}/')\n",
    "\n",
    "        os.unlink(f'{name}/{name}.zip')        \n",
    "\n",
    "        for src in glob.glob(f'{name}/{name}-master/*'):\n",
    "            shutil.move(src, '{0}/{1}'.format(name, os.path.basename(src)))\n",
    "\n",
    "        shutil.rmtree(f'{name}/{name}-master')\n",
    "\n",
    "download_dataset('ESC-50')"
   ]
  },
  {
   "cell_type": "code",
   "execution_count": 3,
   "id": "e7a4f71c",
   "metadata": {
    "colab": {
     "base_uri": "https://localhost:8080/"
    },
    "id": "e7a4f71c",
    "outputId": "d6b16cc5-46a1-4014-b25a-1ccf4a5a1ccd"
   },
   "outputs": [
    {
     "name": "stdout",
     "output_type": "stream",
     "text": [
      "LICENSE           \u001b[1m\u001b[36maudio\u001b[m\u001b[m/            \u001b[1m\u001b[36mmeta\u001b[m\u001b[m/             requirements.txt\r\n",
      "README.md         esc50.gif         pytest.ini        \u001b[1m\u001b[36mtests\u001b[m\u001b[m/\r\n"
     ]
    }
   ],
   "source": [
    "ls ESC-50"
   ]
  },
  {
   "cell_type": "markdown",
   "id": "06f38dc3",
   "metadata": {
    "id": "06f38dc3"
   },
   "source": [
    "## Sample Dataset: Non-Speech Human Sounds"
   ]
  },
  {
   "cell_type": "markdown",
   "id": "f7a638a9",
   "metadata": {
    "id": "f7a638a9"
   },
   "source": [
    "In this project we are going to fucus at identifying non-speech human sounds. Such as: `crying_baby`, `sneezing`, `clapping`, etc. So we are going to filter these categories from the main esc50 dataset."
   ]
  },
  {
   "cell_type": "code",
   "execution_count": 4,
   "id": "90a5da9a",
   "metadata": {
    "id": "90a5da9a"
   },
   "outputs": [],
   "source": [
    "esc50 = pd.read_csv(\"ESC-50/meta/esc50.csv\")\n",
    "\n",
    "human_cats = ['crying_baby', 'sneezing', 'clapping', \n",
    "              'breathing', 'coughing', 'footsteps', \n",
    "              'laughing', 'brushing_teeth', 'snoring', \n",
    "              'drinking_sipping']\n",
    "\n",
    "esc50_human = esc50[esc50[\"category\"].isin(human_cats)].reset_index(drop=True)\n",
    "esc50_human['old_target'] = esc50_human['target']\n",
    "\n",
    "new_classes = [i for i in range(10)]\n",
    "old_classes = esc50_human.target.drop_duplicates().values\n",
    "map_old_new_classes = dict(zip(old_classes, new_classes))\n",
    "\n",
    "#esc50_human = esc50[esc50[\"category\"].isin(human_cats)].reset_index(drop=True)\n",
    "#esc50_human['old_target'] = esc50_human['target']\n",
    "esc50_human = esc50_human.replace({\"target\": map_old_new_classes})"
   ]
  },
  {
   "cell_type": "code",
   "execution_count": 5,
   "id": "67c33a8c",
   "metadata": {
    "colab": {
     "base_uri": "https://localhost:8080/",
     "height": 206
    },
    "id": "67c33a8c",
    "outputId": "bfe31a4c-0545-4c95-999c-3cae6b400514"
   },
   "outputs": [
    {
     "data": {
      "text/html": [
       "<div>\n",
       "<style scoped>\n",
       "    .dataframe tbody tr th:only-of-type {\n",
       "        vertical-align: middle;\n",
       "    }\n",
       "\n",
       "    .dataframe tbody tr th {\n",
       "        vertical-align: top;\n",
       "    }\n",
       "\n",
       "    .dataframe thead th {\n",
       "        text-align: right;\n",
       "    }\n",
       "</style>\n",
       "<table border=\"1\" class=\"dataframe\">\n",
       "  <thead>\n",
       "    <tr style=\"text-align: right;\">\n",
       "      <th></th>\n",
       "      <th>filename</th>\n",
       "      <th>fold</th>\n",
       "      <th>target</th>\n",
       "      <th>category</th>\n",
       "      <th>esc10</th>\n",
       "      <th>src_file</th>\n",
       "      <th>take</th>\n",
       "      <th>old_target</th>\n",
       "    </tr>\n",
       "  </thead>\n",
       "  <tbody>\n",
       "    <tr>\n",
       "      <th>0</th>\n",
       "      <td>1-104089-A-22.wav</td>\n",
       "      <td>1</td>\n",
       "      <td>0</td>\n",
       "      <td>clapping</td>\n",
       "      <td>False</td>\n",
       "      <td>104089</td>\n",
       "      <td>A</td>\n",
       "      <td>22</td>\n",
       "    </tr>\n",
       "    <tr>\n",
       "      <th>1</th>\n",
       "      <td>1-104089-B-22.wav</td>\n",
       "      <td>1</td>\n",
       "      <td>0</td>\n",
       "      <td>clapping</td>\n",
       "      <td>False</td>\n",
       "      <td>104089</td>\n",
       "      <td>B</td>\n",
       "      <td>22</td>\n",
       "    </tr>\n",
       "    <tr>\n",
       "      <th>2</th>\n",
       "      <td>1-105224-A-22.wav</td>\n",
       "      <td>1</td>\n",
       "      <td>0</td>\n",
       "      <td>clapping</td>\n",
       "      <td>False</td>\n",
       "      <td>105224</td>\n",
       "      <td>A</td>\n",
       "      <td>22</td>\n",
       "    </tr>\n",
       "    <tr>\n",
       "      <th>3</th>\n",
       "      <td>1-110537-A-22.wav</td>\n",
       "      <td>1</td>\n",
       "      <td>0</td>\n",
       "      <td>clapping</td>\n",
       "      <td>False</td>\n",
       "      <td>110537</td>\n",
       "      <td>A</td>\n",
       "      <td>22</td>\n",
       "    </tr>\n",
       "    <tr>\n",
       "      <th>4</th>\n",
       "      <td>1-115920-A-22.wav</td>\n",
       "      <td>1</td>\n",
       "      <td>0</td>\n",
       "      <td>clapping</td>\n",
       "      <td>False</td>\n",
       "      <td>115920</td>\n",
       "      <td>A</td>\n",
       "      <td>22</td>\n",
       "    </tr>\n",
       "  </tbody>\n",
       "</table>\n",
       "</div>"
      ],
      "text/plain": [
       "            filename  fold  target  category  esc10  src_file take  old_target\n",
       "0  1-104089-A-22.wav     1       0  clapping  False    104089    A          22\n",
       "1  1-104089-B-22.wav     1       0  clapping  False    104089    B          22\n",
       "2  1-105224-A-22.wav     1       0  clapping  False    105224    A          22\n",
       "3  1-110537-A-22.wav     1       0  clapping  False    110537    A          22\n",
       "4  1-115920-A-22.wav     1       0  clapping  False    115920    A          22"
      ]
     },
     "execution_count": 5,
     "metadata": {},
     "output_type": "execute_result"
    }
   ],
   "source": [
    "esc50_human.head()"
   ]
  },
  {
   "cell_type": "markdown",
   "id": "4856d759",
   "metadata": {
    "id": "4856d759"
   },
   "source": [
    "`X_train` has a shape of `(320, 13, 431)` meaning that we have 320 examples of shape `(13, 431)` we can think about each example as an image of that size."
   ]
  },
  {
   "cell_type": "markdown",
   "id": "ee8b8cb3",
   "metadata": {
    "id": "ee8b8cb3"
   },
   "source": [
    "## Data Preparation for NN"
   ]
  },
  {
   "cell_type": "code",
   "execution_count": 6,
   "id": "83d191e6",
   "metadata": {
    "colab": {
     "base_uri": "https://localhost:8080/"
    },
    "id": "83d191e6",
    "outputId": "33ad45b2-844d-4fde-be6a-dba04bc3b96e"
   },
   "outputs": [
    {
     "name": "stdout",
     "output_type": "stream",
     "text": [
      "Requirement already satisfied: torchaudio_augmentations in /Users/santiago/opt/anaconda3/envs/ml/lib/python3.10/site-packages (0.2.4)\n",
      "Requirement already satisfied: torch in /Users/santiago/opt/anaconda3/envs/ml/lib/python3.10/site-packages (from torchaudio_augmentations) (1.13.1)\n",
      "Requirement already satisfied: numpy in /Users/santiago/opt/anaconda3/envs/ml/lib/python3.10/site-packages (from torchaudio_augmentations) (1.23.5)\n",
      "Requirement already satisfied: torch-pitch-shift in /Users/santiago/opt/anaconda3/envs/ml/lib/python3.10/site-packages (from torchaudio_augmentations) (1.2.2)\n",
      "Requirement already satisfied: julius in /Users/santiago/opt/anaconda3/envs/ml/lib/python3.10/site-packages (from torchaudio_augmentations) (0.2.7)\n",
      "Requirement already satisfied: wavaugment in /Users/santiago/opt/anaconda3/envs/ml/lib/python3.10/site-packages (from torchaudio_augmentations) (0.2)\n",
      "Requirement already satisfied: torchaudio in /Users/santiago/opt/anaconda3/envs/ml/lib/python3.10/site-packages (from torchaudio_augmentations) (0.13.1)\n",
      "Requirement already satisfied: typing_extensions in /Users/santiago/opt/anaconda3/envs/ml/lib/python3.10/site-packages (from torch->torchaudio_augmentations) (4.1.1)\n",
      "Requirement already satisfied: packaging>=21.3 in /Users/santiago/opt/anaconda3/envs/ml/lib/python3.10/site-packages (from torch-pitch-shift->torchaudio_augmentations) (21.3)\n",
      "Requirement already satisfied: primePy>=1.3 in /Users/santiago/opt/anaconda3/envs/ml/lib/python3.10/site-packages (from torch-pitch-shift->torchaudio_augmentations) (1.3)\n",
      "Requirement already satisfied: pyparsing!=3.0.5,>=2.0.2 in /Users/santiago/opt/anaconda3/envs/ml/lib/python3.10/site-packages (from packaging>=21.3->torch-pitch-shift->torchaudio_augmentations) (3.0.9)\n",
      "Note: you may need to restart the kernel to use updated packages.\n"
     ]
    }
   ],
   "source": [
    "%pip install torchaudio_augmentations # for google-colab\n",
    "import torch\n",
    "from torch.utils.data import Dataset, DataLoader\n",
    "import torch.nn as nn\n",
    "import torch.nn.functional as F\n",
    "import torch.optim as optim\n",
    "import torchaudio.transforms as transforms\n",
    "import torchaudio\n",
    "from torch.optim.lr_scheduler import ReduceLROnPlateau\n",
    "import random\n",
    "from torchaudio_augmentations import Compose, ComposeMany, Noise, Gain, PolarityInversion, Delay, HighLowPass, RandomApply\n",
    "\n",
    "# Avoiding nondeterministic algorithms for reproducibility purposes\n",
    "torch.use_deterministic_algorithms(False)\n",
    "random.seed(0)\n",
    "np.random.seed(0)\n",
    "device = 'cuda' if torch.cuda.is_available() else 'cpu'"
   ]
  },
  {
   "cell_type": "code",
   "execution_count": 7,
   "id": "cc58efb2",
   "metadata": {
    "colab": {
     "base_uri": "https://localhost:8080/"
    },
    "id": "cc58efb2",
    "outputId": "27cb5613-9c9a-44e5-91ef-90163c19c1ed"
   },
   "outputs": [
    {
     "data": {
      "text/plain": [
       "<torch._C.Generator at 0x7fd60b53cc30>"
      ]
     },
     "execution_count": 7,
     "metadata": {},
     "output_type": "execute_result"
    }
   ],
   "source": [
    "def seed_worker(worker_id):\n",
    "    worker_seed = torch.initial_seed() % 2**32\n",
    "    numpy.random.seed(worker_seed)\n",
    "    random.seed(worker_seed)\n",
    "\n",
    "g = torch.Generator()\n",
    "g.manual_seed(42)\n",
    "torch.manual_seed(42)"
   ]
  },
  {
   "cell_type": "code",
   "execution_count": 8,
   "id": "10b0009a",
   "metadata": {
    "id": "10b0009a"
   },
   "outputs": [],
   "source": [
    "def get_dataloader_dict(df):\n",
    "    dataloader_dict = {}\n",
    "    for i, row in df.iterrows():  \n",
    "        filename = row[\"filename\"]\n",
    "        fold = int(row[\"fold\"])\n",
    "        target = row[\"target\"]\n",
    "        category = row[\"category\"]\n",
    "        \n",
    "        waveform, sample_rate = torchaudio.load(\"ESC-50/audio/\" + filename, normalize=True)\n",
    "        dataloader_dict[i] = {\"filename\":filename, \"data\":waveform, \"target\":target, \"category\":category,\"fold\":fold}\n",
    "    return dataloader_dict"
   ]
  },
  {
   "cell_type": "code",
   "execution_count": 9,
   "id": "cb964029",
   "metadata": {
    "id": "cb964029"
   },
   "outputs": [],
   "source": [
    "def train_val_loader(dic, fold):\n",
    "    X_val = []\n",
    "    X_train = []\n",
    "    y_val = []\n",
    "    y_train = []\n",
    "\n",
    "    for id, subj in dic.items():\n",
    "\n",
    "        if subj[\"fold\"]!=fold:\n",
    "            X_train.append(subj['data'])\n",
    "            y_train.append(subj['target'])\n",
    "                \n",
    "        if subj[\"fold\"]==fold:\n",
    "            X_val.append(subj['data'])\n",
    "            y_val.append(subj['target'])\n",
    "    \n",
    "    return X_train, np.array(y_train), X_val, np.array(y_val)"
   ]
  },
  {
   "cell_type": "code",
   "execution_count": 10,
   "id": "9a13331f",
   "metadata": {
    "id": "9a13331f"
   },
   "outputs": [],
   "source": [
    "class ESCHDataset(Dataset):\n",
    "    def __init__(self, data, targets, transform=None):\n",
    "        self.data = data\n",
    "        self.targets = targets\n",
    "        self.transform = transform\n",
    "        \n",
    "    def __getitem__(self, index):\n",
    "        x = self.data[index]\n",
    "        y = self.targets[index]\n",
    "        \n",
    "        if self.transform:\n",
    "            x = self.transform(x)        \n",
    "        return x, y\n",
    "    \n",
    "    def __len__(self):\n",
    "        return len(self.data)"
   ]
  },
  {
   "cell_type": "markdown",
   "id": "f02a7288",
   "metadata": {
    "id": "f02a7288"
   },
   "source": [
    "## Training Functions"
   ]
  },
  {
   "cell_type": "code",
   "execution_count": 11,
   "id": "e4c7796f",
   "metadata": {
    "id": "e4c7796f"
   },
   "outputs": [],
   "source": [
    "# Function to save the model - best model in terms of validation accuracy\n",
    "def save_model(model, model_name): \n",
    "    path = f\"./models/{model_name}_.pth\" \n",
    "    torch.save(model.state_dict(), path)"
   ]
  },
  {
   "cell_type": "code",
   "execution_count": 12,
   "id": "f75e00bd",
   "metadata": {
    "id": "f75e00bd"
   },
   "outputs": [],
   "source": [
    "def reset_weights(m):\n",
    "  '''\n",
    "    Try resetting model weights to avoid\n",
    "    weight leakage.\n",
    "  '''\n",
    "  for layer in m.children():\n",
    "    if hasattr(layer, 'reset_parameters'):\n",
    "        # print(f'Reset trainable parameters of layer = {layer}')\n",
    "        layer.reset_parameters()"
   ]
  },
  {
   "cell_type": "code",
   "execution_count": 87,
   "id": "c26e6093",
   "metadata": {
    "id": "c26e6093"
   },
   "outputs": [],
   "source": [
    "# Class oringinally taken from https://stackoverflow.com/a/73704579\n",
    "class EarlyStopper:\n",
    "    def __init__(self, patience=1, min_delta=0):\n",
    "        self.patience = patience\n",
    "        self.min_delta = min_delta\n",
    "        self.counter = 0\n",
    "        self.min_validation_loss = np.inf\n",
    "\n",
    "    def early_stop(self, validation_loss):\n",
    "        if validation_loss < self.min_validation_loss:\n",
    "            self.min_validation_loss = validation_loss\n",
    "            self.counter = 0\n",
    "        elif validation_loss > (self.min_validation_loss + self.min_delta):\n",
    "            self.counter += 1\n",
    "            if self.counter >= self.patience:\n",
    "                return True\n",
    "        return False"
   ]
  },
  {
   "cell_type": "code",
   "execution_count": 197,
   "id": "89cb8904",
   "metadata": {
    "id": "89cb8904"
   },
   "outputs": [],
   "source": [
    "def train(num_epochs, training_loader, validation_loader, model, model_name_fold, is_augmented):\n",
    "    best_accuracy_value = 0.0\n",
    "    train_loss_list = []\n",
    "    val_loss_list = []\n",
    "    early_stopper = EarlyStopper(patience=50, min_delta=0.1)\n",
    "\n",
    "    train_loader_mfcc, train_loader_mel = training_loader\n",
    "    val_loader_mfcc, val_loader_mel = validation_loader\n",
    "\n",
    "    print(\"Begin Training\")\n",
    "    for epoch in range(num_epochs):\n",
    "        running_train_loss = 0.0\n",
    "        running_train_accuracy = 0.0\n",
    "        running_val_loss = 0.0\n",
    "        running_val_accuracy = 0.0\n",
    "        total = 0\n",
    "\n",
    "        # training loop\n",
    "        model.train()\n",
    "        for i, data in enumerate(zip(train_loader_mfcc, train_loader_mel)):\n",
    "            inputs_mfcc, labels = data[0]\n",
    "            inputs_mel, labels = data[1]\n",
    "            \n",
    "            # zero the parameter gradients\n",
    "            optimizer.zero_grad()\n",
    "\n",
    "            # forward + backward + optimize\n",
    "            outputs = model(inputs_mfcc, inputs_mel)\n",
    "            train_loss = criterion(outputs, labels)\n",
    "            train_loss.backward()\n",
    "            optimizer.step()\n",
    "\n",
    "            # track train loss\n",
    "            running_train_loss += train_loss.item()\n",
    "            # make predictions on training data\n",
    "            _, train_preds = torch.max(outputs, 1)\n",
    "            # track train f1-score\n",
    "            running_train_accuracy += accuracy_score(labels.cpu(), train_preds.cpu())\n",
    "\n",
    "        # calculate train loss and train accuracy values\n",
    "        train_loss_value = running_train_loss / len(training_loader[0])\n",
    "        train_accuracy_value = running_train_accuracy / len(training_loader[0])\n",
    "\n",
    "        # validation loop\n",
    "        model.eval()\n",
    "        with torch.no_grad():\n",
    "            for i, data in enumerate(zip(val_loader_mfcc, val_loader_mel)):\n",
    "                inputs_mfcc, labels = data[0]\n",
    "                inputs_mel, labels = data[1]\n",
    "                inputs_mfcc, inputs_mel, labels = inputs_mfcc.to(device), inputs_mel.to(device), labels.to(device)\n",
    "                outputs = model(inputs_mfcc, inputs_mel)\n",
    "                val_loss = criterion(outputs, labels)\n",
    "\n",
    "                _, val_preds = torch.max(outputs, 1)\n",
    "                running_val_loss += val_loss.item()\n",
    "                total += outputs.size(0)\n",
    "                running_val_accuracy += accuracy_score(labels.cpu(), val_preds.cpu()) \n",
    "        \n",
    "        # calculate val loss and val f1-score values\n",
    "        val_loss_value = running_val_loss / len(validation_loader[0])\n",
    "        val_accuracy_value = running_val_accuracy / len(validation_loader[0])\n",
    "        \n",
    "        # call lr scheduler\n",
    "        # scheduler.step(val_loss_value)\n",
    "        # print(f\"Current lr:{scheduler.optimizer.param_groups[0]['lr']}\")\n",
    "\n",
    "        # Save model is val f1-score is the best\n",
    "        if val_accuracy_value > best_accuracy_value:\n",
    "            save_model(model, model_name_fold)\n",
    "            best_accuracy_value = val_accuracy_value\n",
    "\n",
    "        # Print the statistics of the epoch \n",
    "        train_loss_list.append(train_loss_value)\n",
    "        val_loss_list.append(val_loss_value)\n",
    "        \n",
    "        # print(f'Current lr: {optimizer.param_groups[0][\"lr\"]}')\n",
    "        print('Completed training batch', epoch, 'Train Loss: %.4f' %train_loss_value, \n",
    "              'Val Loss: %.4f' %val_loss_value, 'Train Accuracy: %.4f' %train_accuracy_value, \n",
    "              'Val Accuracy: %.4f' %val_accuracy_value)\n",
    "        \n",
    "        # stop if val loss has no t decreased in the last (# of patience) epochs\n",
    "        if early_stopper.early_stop(val_loss_value):\n",
    "            print(\"Early Stopping\")\n",
    "            break\n",
    "\n",
    "    print('Finished Training')\n",
    "    \n",
    "    # plot loss for training and validation for the current batch\n",
    "    plt.plot(train_loss_list[0:-1])\n",
    "    plt.plot(val_loss_list[0:-1])\n",
    "    plt.show()\n",
    "    \n",
    "    # pass back the accuracy from the best model\n",
    "    return train_loss_list, val_loss_list, best_accuracy_value"
   ]
  },
  {
   "cell_type": "code",
   "execution_count": 198,
   "id": "4633b105",
   "metadata": {
    "id": "4633b105"
   },
   "outputs": [],
   "source": [
    "# function for cross-validation\n",
    "def train_cv(num_epochs, df, model, model_name, transformations, is_augmented=False, n_folds=5):\n",
    "    '''\n",
    "    Inputs required/define:\n",
    "    - number of training epochs (num_epochs) per fold\n",
    "    - df is input data\n",
    "    - n_folds - use 5-fold cross-validation\n",
    "    - model is the defined model we use for training and validation\n",
    "    - model_name asks for how to save the model\n",
    "    - transformations is a torch.Compose object computing MFCCs / or also augmentations\n",
    "    '''\n",
    "    # to store loss and accuracy of each fold\n",
    "    train_losses = {}\n",
    "    val_losses = {}\n",
    "    batch_times = []\n",
    "    accuracies = []\n",
    "    \n",
    "    # open data\n",
    "    dataloader_dic = get_dataloader_dict(df)\n",
    "    \n",
    "    for i in range(1, n_folds+1):\n",
    "        # reset model weights to avoid weights leakage between folds\n",
    "        model.apply(reset_weights)\n",
    "        \n",
    "        print(f'FOLD # {i}')\n",
    "        model_name_fold = str(model_name) + '_fold_' + str(i)\n",
    "        training_start_time = time.time()\n",
    "        \n",
    "        X_train, y_train, X_val, y_val = train_val_loader(dataloader_dic, fold=2)\n",
    "        \n",
    "        \n",
    "        train_dataset_mfcc = ESCHDataset(X_train, y_train, transform=transform_mfcc)\n",
    "        train_dataset_mel = ESCHDataset(X_train, y_train, transform=transform_mel)\n",
    "\n",
    "        train_loader_mfcc = DataLoader(train_dataset_mfcc, batch_size=80, drop_last=True,\n",
    "                                  worker_init_fn=seed_worker, \n",
    "                                  generator=g)\n",
    "        train_loader_mel = DataLoader(train_dataset_mel, batch_size=80, drop_last=True,\n",
    "                                  worker_init_fn=seed_worker, \n",
    "                                  generator=g)\n",
    "        \n",
    "        \n",
    "        val_dataset_mfcc = ESCHDataset(X_val, y_val, transform=transform_mfcc)\n",
    "        val_dataset_mel = ESCHDataset(X_val, y_val, transform=transform_mel)\n",
    "\n",
    "        val_loader_mfcc = DataLoader(val_dataset_mfcc, batch_size=80, drop_last=True,\n",
    "                                  worker_init_fn=seed_worker, \n",
    "                                  generator=g)\n",
    "        val_loader_mel = DataLoader(val_dataset_mel, batch_size=80, drop_last=True,\n",
    "                                  worker_init_fn=seed_worker, \n",
    "                                  generator=g)\n",
    "        \n",
    "        train_loader = (train_loader_mfcc, train_loader_mel)\n",
    "        val_loader = (val_loader_mfcc, val_loader_mel)\n",
    "        \n",
    "        # train for current fold of data\n",
    "        # train(num_epochs, training_loader, validation_loader, model, model_name_fold)\n",
    "        train_loss_fold, val_loss_fold, best_accuracy = train(num_epochs, \n",
    "                                                              train_loader, \n",
    "                                                              val_loader, \n",
    "                                                              model, \n",
    "                                                              model_name_fold,\n",
    "                                                              is_augmented)\n",
    "        \n",
    "        # stop time and print total fold runtime \n",
    "        training_stop_time = time.time()\n",
    "        batch_runtime = training_stop_time - training_start_time\n",
    "        batch_times.append(batch_runtime)\n",
    "        \n",
    "        print(f'Fold {i} runtime: {batch_runtime}')\n",
    "        \n",
    "        # plot loss for training and validation\n",
    "        #plt.plot(train_loss_fold[0:-1])\n",
    "        #plt.plot(val_loss_fold[0:-1])\n",
    "        \n",
    "        # save loss and acc in dictionary for later prediction and comparison\n",
    "        train_losses[i] = train_loss_fold\n",
    "        val_losses[i] = val_loss_fold\n",
    "        \n",
    "        # at the end of every fold, appemd the best accuracy \n",
    "        accuracies.append(best_accuracy)\n",
    "      \n",
    "\n",
    "    mean_acc = sum(accuracies)/len(accuracies) # and then return the average over the best models for each fold\n",
    "    \n",
    "    return train_losses, val_losses, batch_times, mean_acc"
   ]
  },
  {
   "cell_type": "markdown",
   "id": "b10e2a29",
   "metadata": {
    "id": "b10e2a29"
   },
   "source": [
    "## Experiments"
   ]
  },
  {
   "cell_type": "code",
   "execution_count": 90,
   "id": "598c1ab9",
   "metadata": {
    "id": "598c1ab9"
   },
   "outputs": [],
   "source": [
    "class CNN(nn.Module):\n",
    "    \n",
    "    def __init__(self):\n",
    "        super().__init__()\n",
    "        self.conv1 = nn.Conv2d(in_channels=1, out_channels=1, kernel_size=(4, 4), stride=1)\n",
    "        self.bn1 = nn.BatchNorm2d(1)\n",
    "        self.pool1 = nn.MaxPool2d(2, 2)\n",
    "        self.fc1 = nn.Linear(in_features=1070, out_features=420)\n",
    "        self.fc2 = nn.Linear(in_features=420, out_features=10)\n",
    "        self.dropout1 = nn.Dropout(0.3)\n",
    "        self.dropout2 = nn.Dropout(0.3)\n",
    "\n",
    "    def forward(self, x):\n",
    "        x = self.pool1(F.relu(self.bn1(self.conv1(x))))\n",
    "        x = self.dropout1(x)\n",
    "        x = torch.flatten(x, 1)\n",
    "        x = F.relu(self.fc1(x))\n",
    "        x = self.dropout2(x)\n",
    "        x = self.fc2(x)\n",
    "        return x"
   ]
  },
  {
   "cell_type": "code",
   "execution_count": 125,
   "id": "83a58013",
   "metadata": {},
   "outputs": [],
   "source": [
    "class TWOHEADCNN(nn.Module):\n",
    "    def __init__(self):\n",
    "        super().__init__()\n",
    "        self.conv1 = nn.Conv2d(1, 32, kernel_size=3)\n",
    "        self.conv2 = nn.Conv2d(32, 64, kernel_size=3)\n",
    "        self.conv2_drop = nn.Dropout2d(0.3)\n",
    "        self.flatten = nn.Flatten()\n",
    "        self.fc1 = nn.Linear(6784, 100)\n",
    "        self.fc2 = nn.Linear(43264, 100)\n",
    "        self.fc3 = nn.Linear(6784 + 43264, 50)\n",
    "        self.fc4 = nn.Linear(50, 10)\n",
    "        \n",
    "\n",
    "    def forward(self, x, y):\n",
    "        x = F.relu(F.max_pool2d(self.conv1(x), 2))\n",
    "        y = F.relu(F.max_pool2d(self.conv1(y), 2))\n",
    "        x = F.relu(F.max_pool2d(self.conv2_drop(self.conv2(x)), 2))\n",
    "        y = F.relu(F.max_pool2d(self.conv2_drop(self.conv2(y)), 2))\n",
    "        x = self.flatten(x)\n",
    "        y = self.flatten(y) \n",
    "        # x = F.relu(self.fc1(x))\n",
    "        # y = F.relu(self.fc2(y))\n",
    "        # x = F.dropout(x, 0.2)\n",
    "        # y = F.dropout(y, 0.2)\n",
    "        z = torch.cat((x,y), 1)\n",
    "        z = F.relu(self.fc3(z))\n",
    "        z = F.dropout(z, 0.2)\n",
    "        z = self.fc4(z)\n",
    "        return z"
   ]
  },
  {
   "cell_type": "code",
   "execution_count": 199,
   "id": "53604ae1",
   "metadata": {},
   "outputs": [],
   "source": [
    "class PAPER(nn.Module):\n",
    "    def __init__(self):\n",
    "        super().__init__()\n",
    "        self.conv1 = nn.Conv2d(1, 80, kernel_size=(57, 6))\n",
    "        self.conv2 = nn.Conv2d(80, 80, kernel_size=(1, 3))\n",
    "        self.dropout = nn.Dropout(0.2)\n",
    "        self.flatten = nn.Flatten()\n",
    "        self.fc3 = nn.Linear(3520, 50)\n",
    "        self.fc4 = nn.Linear(50, 10)\n",
    "        \n",
    "\n",
    "    def forward(self, x, y):\n",
    "        x = F.relu(F.max_pool2d(self.conv1(x), (4, 3), (1, 3)))\n",
    "        y = F.relu(F.max_pool2d(self.conv1(y), (4, 3), (1, 3)))\n",
    "        x = F.relu(F.max_pool2d(self.dropout(self.conv2(x)), (1, 3), (1, 3)))\n",
    "        y = F.relu(F.max_pool2d(self.dropout(self.conv2(y)), (1, 3), (1, 3)))\n",
    "        x = self.flatten(x)\n",
    "        y = self.flatten(y) \n",
    "        # x = F.relu(self.fc1(x))\n",
    "        # y = F.relu(self.fc2(y))\n",
    "        # x = F.dropout(x, 0.2)\n",
    "        # y = F.dropout(y, 0.2)\n",
    "        z = torch.cat((x,y), 1)\n",
    "        z = F.relu(self.fc3(z))\n",
    "        z = self.dropout(z)\n",
    "        z = self.fc4(z)\n",
    "        return z"
   ]
  },
  {
   "cell_type": "code",
   "execution_count": 176,
   "id": "6620ab14",
   "metadata": {},
   "outputs": [],
   "source": [
    "RATE = 44100\n",
    "transform_mfcc = Compose([transforms.MelSpectrogram(sample_rate=RATE, n_fft=2048, n_mels=60),\n",
    "                         transforms.ComputeDeltas()\n",
    "                        ])\n",
    "transform_mel = transforms.MelSpectrogram(sample_rate=RATE, n_fft=2048, n_mels=60)\n",
    "\n",
    "dataloader_dic = get_dataloader_dict(esc50_human)\n",
    "X_train, y_train, X_val, y_val = train_val_loader(dataloader_dic, fold=0)\n",
    "        \n",
    "train_dataset_mfcc = ESCHDataset(X_train, y_train, transform=transform_mfcc)\n",
    "train_dataset_mel = ESCHDataset(X_train, y_train, transform=transform_mel)\n",
    "\n",
    "train_loader_mfcc = DataLoader(train_dataset_mfcc, batch_size=80, drop_last=True,\n",
    "                          worker_init_fn=seed_worker, \n",
    "                          generator=g)\n",
    "train_loader_mel = DataLoader(train_dataset_mel, batch_size=80, drop_last=True,\n",
    "                          worker_init_fn=seed_worker, \n",
    "                          generator=g)\n",
    "\n",
    "iteritem_mfcc = iter(train_loader_mfcc)\n",
    "iteritem_mel = iter(train_loader_mel)\n",
    "\n",
    "inputs_mfcc, labels = next(iteritem_mfcc)\n",
    "inputs_mel, labels = next(iteritem_mel)"
   ]
  },
  {
   "cell_type": "code",
   "execution_count": 177,
   "id": "238b48e4",
   "metadata": {},
   "outputs": [
    {
     "name": "stdout",
     "output_type": "stream",
     "text": [
      "raw torch.Size([80, 1, 60, 216])\n",
      "tran torch.Size([80, 1, 60, 216])\n"
     ]
    }
   ],
   "source": [
    "print(f\"raw {inputs_mfcc.shape}\")\n",
    "print(f\"tran {inputs_mel.shape}\")"
   ]
  },
  {
   "cell_type": "code",
   "execution_count": 70,
   "id": "f1943cdf",
   "metadata": {},
   "outputs": [
    {
     "name": "stdout",
     "output_type": "stream",
     "text": [
      "torch.Size([80, 1, 60, 216])\n",
      "torch.Size([80, 1, 60, 216])\n",
      "torch.Size([80, 1, 60, 216])\n",
      "torch.Size([80, 1, 60, 216])\n",
      "torch.Size([80, 1, 60, 216])\n"
     ]
    }
   ],
   "source": [
    "for i, data in enumerate(zip(train_loader_mfcc, train_loader_mel)):\n",
    "    inputs_mfcc, labels_mfcc = data[0]\n",
    "    inputs_mel, labels_mel = data[1]\n",
    "    print(inputs_mel.shape)\n"
   ]
  },
  {
   "cell_type": "code",
   "execution_count": 48,
   "id": "6904ac5e",
   "metadata": {},
   "outputs": [
    {
     "data": {
      "text/plain": [
       "(<torch.utils.data.dataloader.DataLoader at 0x7fd5fc65de70>,\n",
       " <torch.utils.data.dataloader.DataLoader at 0x7fd5fc65fb20>)"
      ]
     },
     "execution_count": 48,
     "metadata": {},
     "output_type": "execute_result"
    }
   ],
   "source": [
    "train_loader"
   ]
  },
  {
   "cell_type": "code",
   "execution_count": 194,
   "id": "739faca2",
   "metadata": {},
   "outputs": [],
   "source": [
    "net = PAPER()"
   ]
  },
  {
   "cell_type": "code",
   "execution_count": 195,
   "id": "53425bf8",
   "metadata": {},
   "outputs": [
    {
     "data": {
      "text/plain": [
       "tensor([[ 3.8145e+01, -2.4777e+01, -1.7390e+01, -5.0157e+01,  2.6648e+01,\n",
       "         -4.3500e+01, -1.0252e+01, -1.3137e+01,  4.7305e+01, -1.4690e+01],\n",
       "        [-5.8134e+00,  1.6225e+01, -3.2679e+01, -2.3965e+01,  2.0384e+01,\n",
       "         -4.0084e+01, -1.3640e+00, -1.6786e+00,  9.8628e+00, -1.3694e+01],\n",
       "        [ 2.0175e+02,  9.3423e+01, -5.0253e+01, -1.7208e+02,  1.0949e+02,\n",
       "         -2.4251e+02, -1.1839e+02, -1.5385e+01,  5.8264e+01, -3.6533e+01],\n",
       "        [ 4.6916e+02, -3.3676e+02, -2.2486e+02, -3.1637e+02,  7.9023e+02,\n",
       "         -4.3325e+02, -2.0260e+02, -3.9182e+02,  1.3788e+02,  1.2505e+01],\n",
       "        [ 2.1997e+00, -3.0672e+00,  1.1474e-01, -7.1459e+00,  7.6435e+00,\n",
       "         -4.0767e+00, -2.8664e+00, -8.1886e+00,  2.3245e+00,  6.5618e-01],\n",
       "        [ 1.1841e+01, -8.6803e+00,  1.2851e+00, -1.0285e+01,  8.4768e+00,\n",
       "         -8.2235e+00, -1.1731e+01, -5.8817e+00,  5.5799e+00, -2.9118e+00],\n",
       "        [ 1.2440e+00, -1.4277e+00, -5.9085e-01, -1.1408e+00,  1.3495e+00,\n",
       "          8.6553e-02, -1.7507e+00, -5.5748e-01,  8.2371e-01, -6.7890e-01],\n",
       "        [ 1.9309e+01, -1.1034e+01, -8.6677e+00,  9.4151e+00,  1.9429e+01,\n",
       "          2.1450e+00, -7.7956e+00, -3.9769e+00, -7.9722e+00,  2.1416e+00],\n",
       "        [ 4.4637e+00, -4.6185e+00, -2.5591e+00, -3.6625e+00,  3.6077e-01,\n",
       "         -2.4905e+00, -4.6246e+00, -3.5366e+00,  3.9141e+00, -2.4946e-01],\n",
       "        [ 1.1831e+00, -2.8269e+00, -1.9238e+00, -1.1640e+00,  1.1369e+00,\n",
       "          1.6891e-01, -1.9163e-02, -2.7273e+00, -7.2756e-01, -3.6393e-01],\n",
       "        [ 2.6474e+00, -2.0632e+00, -1.7249e-01, -6.7040e+00, -1.2375e+00,\n",
       "         -5.2748e+00, -3.2982e+00, -5.9215e+00,  1.7940e+00,  1.0793e+00],\n",
       "        [ 5.1521e+01, -8.0443e+01, -3.1376e+01, -9.4715e+01,  4.6525e+01,\n",
       "         -2.8953e+01, -5.3181e+01, -4.1887e+01,  5.4970e+01, -2.2075e+01],\n",
       "        [ 1.1497e-01, -1.8063e+00, -9.2880e-01, -1.9558e+00,  5.7190e-01,\n",
       "         -4.6380e-01, -1.1322e+00, -1.3052e+00,  1.3773e+00,  4.8069e-01],\n",
       "        [-9.6084e-02, -5.3649e-01, -3.3626e-01, -4.4949e-01,  2.9115e-01,\n",
       "         -3.3698e-01, -1.4898e-01, -2.6947e-01,  4.0988e-01, -7.7099e-01],\n",
       "        [ 1.0909e-02, -8.7649e-02, -5.1246e-02, -2.9039e-01,  2.1756e-01,\n",
       "         -1.5435e-01, -2.6676e-01, -1.8357e-01,  1.4342e-01, -2.6162e-01],\n",
       "        [ 1.7258e+02, -2.7065e+02,  4.4364e+01, -3.3177e+02, -9.2152e+01,\n",
       "         -4.2995e+02, -3.8191e+02, -1.8833e+02,  3.2935e+02,  1.0259e+02],\n",
       "        [ 4.1086e+01, -1.4015e+01,  1.0653e+00, -2.5740e+01,  2.1972e+01,\n",
       "         -1.3334e+01, -2.5198e+01, -2.2224e+01,  2.6573e+00, -4.8776e+00],\n",
       "        [ 5.4611e+01, -1.8668e+01, -3.7882e+01, -4.6218e+01, -4.3434e+00,\n",
       "         -2.3218e-01, -2.5193e+00, -2.0121e+01,  4.0567e+00,  2.0564e+01],\n",
       "        [ 6.5031e+02, -2.0350e+01, -6.7592e+01, -5.9990e+02,  5.1549e+02,\n",
       "         -5.1299e+02, -4.2409e+02, -6.4525e+02,  2.4271e+02,  2.3253e+02],\n",
       "        [ 1.5014e+02, -4.8940e+01, -7.8860e+01, -2.1462e+01, -1.4184e+01,\n",
       "          6.8921e+01, -4.9474e+01,  1.1529e+01,  1.4007e+01,  2.2615e+01],\n",
       "        [ 1.9922e-01, -4.8131e-01, -3.0731e-01, -3.3312e-01, -1.5047e-01,\n",
       "         -9.4217e-02, -2.1007e-01, -4.9960e-01,  2.3129e-01, -1.1817e-01],\n",
       "        [ 4.5083e+01, -3.8102e+01, -2.6561e+01, -3.2748e+01,  2.9712e+00,\n",
       "          6.5071e+00, -2.2933e+01, -1.3181e+01,  2.0309e+01, -1.0622e+01],\n",
       "        [-7.5708e+00, -6.9786e+01, -3.2385e+01,  1.0397e+01,  1.4117e+02,\n",
       "         -3.1348e+01, -1.1565e+01, -4.4410e+01, -2.8896e+01, -2.1803e+01],\n",
       "        [ 1.3422e+01, -1.7127e+02, -8.9309e+01, -1.5618e+02,  6.2494e+01,\n",
       "         -2.2889e+01, -5.3904e+01, -2.6598e+01,  9.3880e+01, -6.3829e+01],\n",
       "        [ 2.9315e+01,  2.3029e+00, -1.2162e+02, -7.9387e+01, -4.5746e+01,\n",
       "         -8.4404e+01, -1.0609e+02,  3.1402e+01,  1.0625e+02, -1.6997e+02],\n",
       "        [ 5.7457e+00, -3.5169e+01, -1.0239e+01, -4.1571e+01,  1.8573e+00,\n",
       "         -3.2407e+01, -2.1078e+01, -5.3445e+01,  2.5062e+01,  3.6069e+00],\n",
       "        [-1.0523e+01, -7.9753e+01,  4.9719e+01,  9.5210e+00,  2.2559e+01,\n",
       "         -1.8910e+01, -7.7154e+01, -7.4845e+01, -2.9479e+01,  4.2093e+01],\n",
       "        [-1.4522e+01, -4.9787e+01, -5.0589e+00, -1.9986e+01,  1.6592e+01,\n",
       "         -1.1850e+01, -2.2176e+01, -1.3033e+01,  3.3758e+01,  2.7312e+01],\n",
       "        [ 1.1960e+01, -2.6685e+01,  2.5366e+01, -3.9753e+01,  1.6460e+01,\n",
       "         -2.2387e+01, -3.4543e+01, -2.4298e+01, -2.2216e+01, -9.0091e+00],\n",
       "        [ 6.0044e+01,  3.0639e+00, -9.9406e+01, -1.0581e+02, -5.2683e+01,\n",
       "         -1.0429e+02, -5.5802e+01,  2.7418e+01,  6.7729e+01, -1.3343e+02],\n",
       "        [ 6.1229e+01,  2.9239e+01, -5.1195e+01, -2.4572e+01,  4.2381e+01,\n",
       "         -3.9751e+01,  4.0762e+01, -3.5883e+01,  1.3188e+01,  3.0962e+00],\n",
       "        [ 2.2138e+01, -3.2498e+01, -1.2874e+01, -2.6691e+01, -2.3443e+01,\n",
       "         -1.0273e+01, -1.9106e+01,  2.5501e+01, -1.8926e+01, -8.0432e+00],\n",
       "        [ 3.6081e+02,  3.5883e+01, -2.1995e+02, -2.1382e+02,  7.7581e+01,\n",
       "         -2.9480e+02, -2.0678e+02, -1.0399e+02,  1.5783e+02,  2.8831e+01],\n",
       "        [ 1.4399e+02,  4.8149e+00, -7.1301e+01, -9.0759e+01,  1.3740e+02,\n",
       "         -9.0875e+01, -6.3680e+01, -5.8726e+01,  3.6404e+01,  3.7918e+01],\n",
       "        [ 1.6033e+01, -4.4447e+01, -4.7943e+01, -2.0838e+01,  9.8499e+01,\n",
       "         -4.6393e+01,  3.5355e+00, -3.9112e+01, -8.2644e-01, -2.8518e+01],\n",
       "        [ 4.3279e+01, -1.7876e+01, -3.9844e+01, -8.8446e+01,  1.4031e+02,\n",
       "         -6.4562e+01, -7.6552e+01, -2.1772e+01,  2.6758e+01, -1.4334e+01],\n",
       "        [ 2.0595e+02, -1.2728e+02, -3.7282e+01, -2.3596e+02,  8.6057e+01,\n",
       "         -1.5635e+02, -1.4753e+02, -4.5524e+01,  7.0659e+01, -1.0434e+02],\n",
       "        [ 2.8604e+01, -5.9289e+01, -2.6405e+01, -5.4941e+01, -1.3073e+01,\n",
       "         -3.7062e+01,  1.2355e+01, -2.8604e+01,  8.4766e+00, -6.8392e+01],\n",
       "        [ 4.9227e+00, -7.6402e+00, -1.0238e+01, -9.6144e+00, -6.7509e-01,\n",
       "         -2.4760e+00, -2.3338e+00,  2.5354e+00, -1.4201e+00, -3.3190e+00],\n",
       "        [ 5.1828e+00, -1.9351e+00, -9.1097e-01, -3.7717e+00, -3.3389e+00,\n",
       "         -4.9629e+00, -3.3241e+00, -5.5684e+00, -5.0046e-01, -5.2005e+00],\n",
       "        [ 3.1703e+01, -1.9003e+02, -7.2918e+01, -1.0796e+02, -4.9029e+01,\n",
       "         -1.1953e+01,  2.8178e+01, -1.0047e+02,  6.8318e+01, -3.3530e+01],\n",
       "        [ 3.9691e+00, -2.9868e+00, -5.4244e+00, -4.5091e+00,  1.1083e+00,\n",
       "         -2.1307e+00, -3.2864e+00,  3.7347e-01,  5.8534e+00, -1.0389e+00],\n",
       "        [ 6.4922e+00, -7.8527e+01, -2.5311e+00, -8.8735e+01,  9.7072e+00,\n",
       "         -4.1905e+01, -7.1933e+01, -2.0688e+01,  2.5878e+01, -4.8162e+01],\n",
       "        [ 1.0055e+01, -3.7967e-01, -5.7830e+00, -6.5384e+00,  5.2927e+00,\n",
       "         -5.5053e+00, -3.4812e+00, -7.9140e+00,  1.7465e+00, -6.9836e-01],\n",
       "        [ 6.4658e-02, -1.3171e-01, -1.4542e-01, -1.7977e-01,  9.4948e-02,\n",
       "         -1.3009e-01, -1.5743e-01, -1.7904e-02,  1.1188e-01, -1.4924e-01],\n",
       "        [ 7.8990e-01, -3.5224e-01, -5.3224e-01, -4.0574e-01,  4.0356e-01,\n",
       "         -3.8615e-01, -8.9093e-01, -2.1626e-01,  3.3796e-01, -1.5368e-01],\n",
       "        [ 4.3245e-01, -3.5888e-01, -5.3352e-01, -4.5594e-01, -3.1017e-01,\n",
       "         -4.7534e-01,  1.9596e-01, -8.5809e-01,  2.9585e-01, -4.4036e-01],\n",
       "        [ 4.4069e+00, -2.9779e+01, -1.7127e+01, -2.3966e+01,  8.0192e+00,\n",
       "         -1.0912e+01, -4.9837e+00, -3.1764e+01,  1.2063e+01,  6.3119e+00],\n",
       "        [ 4.0646e-01, -2.7287e+00, -2.0210e+00, -4.3123e+00,  2.8529e+00,\n",
       "         -1.2397e+00, -2.6556e+00,  6.5082e-01,  8.5882e-01, -2.6670e-01],\n",
       "        [ 1.7461e+00, -1.8698e+00, -1.9330e-01, -2.0283e-02,  1.8509e+00,\n",
       "         -1.1942e-01, -9.1979e-02, -2.1977e+00,  5.8887e-01,  6.9434e-01],\n",
       "        [-7.6331e-01, -1.3161e+00,  6.3221e-01, -8.2386e-01, -3.5680e-01,\n",
       "         -9.3313e-01, -1.4741e-01, -5.6882e-01, -4.0476e-02,  3.5303e-01],\n",
       "        [ 6.3890e+01, -2.0706e+01, -5.7353e+01, -3.9450e+01,  8.2767e+01,\n",
       "          3.0810e+01, -3.2324e+01, -1.4927e+01,  1.1645e+01, -2.0683e+01],\n",
       "        [ 8.2578e-01, -2.3582e+00, -2.8054e+00, -3.9924e+00, -7.0347e-01,\n",
       "         -5.5862e-01, -8.9220e-01, -7.0556e-01,  2.1683e+00, -3.1526e-01],\n",
       "        [ 3.7019e+02,  1.2488e+02, -1.7082e+02, -1.8675e+02,  1.1644e+02,\n",
       "         -7.5646e+01,  1.0557e+01, -1.6773e+02, -2.6903e+01, -1.7318e+02],\n",
       "        [ 4.9609e+00, -3.1365e+00, -4.0357e+00, -8.7821e+00, -2.2515e+00,\n",
       "         -3.5890e+00, -4.6777e+00,  2.1500e+00, -8.7091e-01, -7.4968e+00],\n",
       "        [ 4.2958e+00,  5.3381e+00, -1.5960e+00, -2.6754e+00, -1.4543e+00,\n",
       "         -1.2020e+01, -4.1337e-01, -7.0126e+00,  4.3480e-02,  1.8056e+00],\n",
       "        [ 8.2590e+00,  3.1766e-01, -1.3039e+01, -1.0810e+01,  1.3309e+01,\n",
       "         -9.0188e+00, -5.3501e+00, -9.0601e+00,  8.6330e-01, -7.7316e+00],\n",
       "        [ 2.9275e+00, -4.0473e+00, -7.8482e+00, -1.3523e+01,  4.4986e+00,\n",
       "         -3.1247e+00, -4.3632e+00, -5.6348e+00,  3.0387e+00,  7.2007e+00],\n",
       "        [ 4.1798e+01, -9.5322e+02, -2.5874e+02, -6.5977e+02,  1.8564e+02,\n",
       "         -3.9416e+02, -1.3888e+02, -6.6325e+02,  5.4406e+02, -3.1770e+02],\n",
       "        [ 7.0703e+00, -3.4557e+00, -9.6762e+00, -1.0508e+01,  2.7592e+00,\n",
       "         -9.0935e+00, -5.7455e+00,  6.2136e-01,  7.1242e+00, -5.3017e+00],\n",
       "        [ 1.6670e+02, -1.2462e+02, -5.7010e+01, -6.2271e+01,  5.9065e+01,\n",
       "         -1.3059e+02,  2.5330e+00, -2.6864e+02,  5.2312e+01,  5.1996e+01],\n",
       "        [-4.3785e+00,  1.2322e+00, -1.3901e+01, -1.5900e+01,  5.7758e+00,\n",
       "         -9.6824e+01, -3.2998e+01, -3.9998e+01, -8.1824e+00,  3.3493e+01],\n",
       "        [ 2.3238e+03, -1.0184e+03, -1.2074e+03, -1.7867e+03,  1.9698e+03,\n",
       "         -2.0852e+02, -1.1356e+03, -7.1658e+02,  7.6487e+02, -1.6752e+03],\n",
       "        [ 8.9780e+01,  1.0124e+01, -3.2305e+01, -9.1856e+01, -8.0371e+00,\n",
       "         -8.9195e+01, -5.6054e+01,  6.0841e+00,  1.0529e+02, -4.2754e+01],\n",
       "        [ 3.5162e+01, -6.9665e+00, -2.8849e+01, -3.2255e+01,  2.6303e+01,\n",
       "         -3.2715e+01, -1.6603e+01, -3.0955e+01,  7.4705e+00, -1.1086e+01],\n",
       "        [ 1.0651e+02,  2.7361e+00, -1.3552e+01, -6.3518e+00, -1.9256e+00,\n",
       "         -4.5048e+01, -3.6131e+01, -5.2255e+01, -2.7866e+00,  7.7958e+01],\n",
       "        [ 6.4798e+01,  3.8544e+01, -6.4011e+01, -2.2038e+01,  1.9475e+01,\n",
       "         -1.1151e+02,  1.0628e+01, -8.5979e+01, -1.8602e+01, -4.2599e+01],\n",
       "        [ 1.0485e+01, -1.3235e+02,  1.7919e+01, -6.5954e+01, -2.6227e+01,\n",
       "         -4.9330e+00, -3.4613e+01, -3.6148e+01,  9.6823e+01, -6.2913e+01],\n",
       "        [ 1.2956e+01, -2.5365e+01, -8.2686e+00, -5.6596e+00,  3.8445e+00,\n",
       "         -1.4975e+01, -1.3523e+01, -7.3502e+00,  1.5158e+01, -7.6989e+00],\n",
       "        [ 9.2970e+01,  3.1402e+01, -1.0799e+02, -6.8115e+01, -2.4868e+01,\n",
       "         -1.0911e+02, -2.7079e+01, -5.1190e+01, -1.0456e+00, -7.5371e+01],\n",
       "        [ 4.1447e+00, -2.4346e-01, -2.9519e+00, -1.9539e+00,  1.0656e+00,\n",
       "          1.6735e+00, -9.4362e-01, -1.2508e+00, -2.2608e+00, -4.9528e+00],\n",
       "        [ 8.2732e+00, -2.2444e+01, -2.2465e+01, -2.2235e+01,  1.0613e+01,\n",
       "         -1.5462e+01, -1.6481e+01, -3.6043e+00,  1.3224e+01, -2.3202e+01],\n",
       "        [ 4.5177e+00, -1.2407e+01,  8.5130e+00, -1.9089e+01, -1.6384e+01,\n",
       "         -8.6492e+00, -1.8719e+01, -1.9050e+01, -2.8792e+00, -1.0880e+01],\n",
       "        [ 3.9222e+01, -2.9193e+01, -2.6089e-01, -4.9881e+01,  3.7475e+01,\n",
       "         -5.0569e+01, -7.9910e+01, -2.8910e+01,  3.3483e+01,  3.2440e+00],\n",
       "        [ 1.5832e+02, -1.6958e+02, -1.5943e+02, -2.8219e+02,  1.8837e+01,\n",
       "         -1.9745e+02, -1.4988e+02, -7.9524e+01,  7.0830e+01, -1.9229e+02],\n",
       "        [ 3.2999e+00, -1.2068e+01, -3.1277e+01, -1.8096e+01, -1.8745e+00,\n",
       "         -2.1374e+01, -9.6779e-01, -9.4781e+00,  1.0319e+01, -1.3549e+01],\n",
       "        [-9.5243e+00, -6.4478e+01,  3.4091e+01, -3.0302e+01, -7.2332e+01,\n",
       "         -1.7541e+02,  3.4187e+01, -1.2440e+02, -2.4303e+01, -1.1926e+01],\n",
       "        [ 4.0361e-01, -1.5503e+01,  3.5244e+00, -7.5844e+00, -2.6108e+00,\n",
       "         -3.6043e+00, -9.3787e+00, -2.2911e+00,  1.4864e+01,  3.6624e+00],\n",
       "        [-9.9183e+01, -4.3317e+01,  1.2057e+01,  4.2797e+01,  5.9392e+01,\n",
       "         -6.0604e+01,  1.6295e+02, -7.0090e+01,  3.8426e+01,  4.2138e+01],\n",
       "        [ 5.5431e+01, -7.6904e+01, -3.4944e+01, -8.7492e+01,  8.0214e+01,\n",
       "         -4.4750e+01, -5.1942e+01, -3.9091e+01,  6.1425e+01, -2.2993e+01]],\n",
       "       grad_fn=<AddmmBackward0>)"
      ]
     },
     "execution_count": 195,
     "metadata": {},
     "output_type": "execute_result"
    }
   ],
   "source": [
    "net(inputs_mfcc, inputs_mel)"
   ]
  },
  {
   "cell_type": "markdown",
   "id": "41800108",
   "metadata": {
    "id": "41800108"
   },
   "source": [
    "### Simple CNN - Without Data Augmentation"
   ]
  },
  {
   "cell_type": "code",
   "execution_count": 20,
   "id": "a107f965",
   "metadata": {},
   "outputs": [],
   "source": [
    "RATE = 44100\n",
    "transform_mfcc = transforms.MFCC(sample_rate=RATE, \n",
    "                     n_mfcc=13,\n",
    "                     melkwargs={\"n_fft\": 2048, \"hop_length\": 512, \"n_mels\": 60})"
   ]
  },
  {
   "cell_type": "code",
   "execution_count": 200,
   "id": "2b3cbf7d",
   "metadata": {
    "colab": {
     "base_uri": "https://localhost:8080/",
     "height": 1000
    },
    "id": "2b3cbf7d",
    "outputId": "49c7954f-70e4-4209-b2f0-a62045ea2efe"
   },
   "outputs": [
    {
     "name": "stdout",
     "output_type": "stream",
     "text": [
      "cpu\n",
      "FOLD # 1\n",
      "Begin Training\n"
     ]
    },
    {
     "ename": "TypeError",
     "evalue": "CNN.forward() takes 2 positional arguments but 3 were given",
     "output_type": "error",
     "traceback": [
      "\u001b[0;31m---------------------------------------------------------------------------\u001b[0m",
      "\u001b[0;31mTypeError\u001b[0m                                 Traceback (most recent call last)",
      "Input \u001b[0;32mIn [200]\u001b[0m, in \u001b[0;36m<cell line: 10>\u001b[0;34m()\u001b[0m\n\u001b[1;32m      8\u001b[0m \u001b[38;5;66;03m# the train_cv function needs (num_epochs, df, model, model_name, transformations, n_folds = 5)\u001b[39;00m\n\u001b[1;32m      9\u001b[0m name \u001b[38;5;241m=\u001b[39m \u001b[38;5;124m'\u001b[39m\u001b[38;5;124mCNN_MFCC_baseline_run3\u001b[39m\u001b[38;5;124m'\u001b[39m\n\u001b[0;32m---> 10\u001b[0m train_loss_dict, val_loss_dict, batch_runtimes, mean_accuracy \u001b[38;5;241m=\u001b[39m \u001b[43mtrain_cv\u001b[49m\u001b[43m(\u001b[49m\u001b[38;5;241;43m100\u001b[39;49m\u001b[43m,\u001b[49m\u001b[43m \u001b[49m\u001b[43mesc50_human\u001b[49m\u001b[43m,\u001b[49m\u001b[43m \u001b[49m\u001b[43mnet\u001b[49m\u001b[43m,\u001b[49m\u001b[43m \u001b[49m\u001b[43mname\u001b[49m\u001b[43m,\u001b[49m\u001b[43m \u001b[49m\u001b[43mtransform_mfcc\u001b[49m\u001b[43m)\u001b[49m\n",
      "Input \u001b[0;32mIn [198]\u001b[0m, in \u001b[0;36mtrain_cv\u001b[0;34m(num_epochs, df, model, model_name, transformations, is_augmented, n_folds)\u001b[0m\n\u001b[1;32m     54\u001b[0m val_loader \u001b[38;5;241m=\u001b[39m (val_loader_mfcc, val_loader_mel)\n\u001b[1;32m     56\u001b[0m \u001b[38;5;66;03m# train for current fold of data\u001b[39;00m\n\u001b[1;32m     57\u001b[0m \u001b[38;5;66;03m# train(num_epochs, training_loader, validation_loader, model, model_name_fold)\u001b[39;00m\n\u001b[0;32m---> 58\u001b[0m train_loss_fold, val_loss_fold, best_accuracy \u001b[38;5;241m=\u001b[39m \u001b[43mtrain\u001b[49m\u001b[43m(\u001b[49m\u001b[43mnum_epochs\u001b[49m\u001b[43m,\u001b[49m\u001b[43m \u001b[49m\n\u001b[1;32m     59\u001b[0m \u001b[43m                                                      \u001b[49m\u001b[43mtrain_loader\u001b[49m\u001b[43m,\u001b[49m\u001b[43m \u001b[49m\n\u001b[1;32m     60\u001b[0m \u001b[43m                                                      \u001b[49m\u001b[43mval_loader\u001b[49m\u001b[43m,\u001b[49m\u001b[43m \u001b[49m\n\u001b[1;32m     61\u001b[0m \u001b[43m                                                      \u001b[49m\u001b[43mmodel\u001b[49m\u001b[43m,\u001b[49m\u001b[43m \u001b[49m\n\u001b[1;32m     62\u001b[0m \u001b[43m                                                      \u001b[49m\u001b[43mmodel_name_fold\u001b[49m\u001b[43m,\u001b[49m\n\u001b[1;32m     63\u001b[0m \u001b[43m                                                      \u001b[49m\u001b[43mis_augmented\u001b[49m\u001b[43m)\u001b[49m\n\u001b[1;32m     65\u001b[0m \u001b[38;5;66;03m# stop time and print total fold runtime \u001b[39;00m\n\u001b[1;32m     66\u001b[0m training_stop_time \u001b[38;5;241m=\u001b[39m time\u001b[38;5;241m.\u001b[39mtime()\n",
      "Input \u001b[0;32mIn [197]\u001b[0m, in \u001b[0;36mtrain\u001b[0;34m(num_epochs, training_loader, validation_loader, model, model_name_fold, is_augmented)\u001b[0m\n\u001b[1;32m     25\u001b[0m optimizer\u001b[38;5;241m.\u001b[39mzero_grad()\n\u001b[1;32m     27\u001b[0m \u001b[38;5;66;03m# forward + backward + optimize\u001b[39;00m\n\u001b[0;32m---> 28\u001b[0m outputs \u001b[38;5;241m=\u001b[39m \u001b[43mmodel\u001b[49m\u001b[43m(\u001b[49m\u001b[43minputs_mfcc\u001b[49m\u001b[43m,\u001b[49m\u001b[43m \u001b[49m\u001b[43minputs_mel\u001b[49m\u001b[43m)\u001b[49m\n\u001b[1;32m     29\u001b[0m train_loss \u001b[38;5;241m=\u001b[39m criterion(outputs, labels)\n\u001b[1;32m     30\u001b[0m train_loss\u001b[38;5;241m.\u001b[39mbackward()\n",
      "File \u001b[0;32m~/opt/anaconda3/envs/ml/lib/python3.10/site-packages/torch/nn/modules/module.py:1194\u001b[0m, in \u001b[0;36mModule._call_impl\u001b[0;34m(self, *input, **kwargs)\u001b[0m\n\u001b[1;32m   1190\u001b[0m \u001b[38;5;66;03m# If we don't have any hooks, we want to skip the rest of the logic in\u001b[39;00m\n\u001b[1;32m   1191\u001b[0m \u001b[38;5;66;03m# this function, and just call forward.\u001b[39;00m\n\u001b[1;32m   1192\u001b[0m \u001b[38;5;28;01mif\u001b[39;00m \u001b[38;5;129;01mnot\u001b[39;00m (\u001b[38;5;28mself\u001b[39m\u001b[38;5;241m.\u001b[39m_backward_hooks \u001b[38;5;129;01mor\u001b[39;00m \u001b[38;5;28mself\u001b[39m\u001b[38;5;241m.\u001b[39m_forward_hooks \u001b[38;5;129;01mor\u001b[39;00m \u001b[38;5;28mself\u001b[39m\u001b[38;5;241m.\u001b[39m_forward_pre_hooks \u001b[38;5;129;01mor\u001b[39;00m _global_backward_hooks\n\u001b[1;32m   1193\u001b[0m         \u001b[38;5;129;01mor\u001b[39;00m _global_forward_hooks \u001b[38;5;129;01mor\u001b[39;00m _global_forward_pre_hooks):\n\u001b[0;32m-> 1194\u001b[0m     \u001b[38;5;28;01mreturn\u001b[39;00m \u001b[43mforward_call\u001b[49m\u001b[43m(\u001b[49m\u001b[38;5;241;43m*\u001b[39;49m\u001b[38;5;28;43minput\u001b[39;49m\u001b[43m,\u001b[49m\u001b[43m \u001b[49m\u001b[38;5;241;43m*\u001b[39;49m\u001b[38;5;241;43m*\u001b[39;49m\u001b[43mkwargs\u001b[49m\u001b[43m)\u001b[49m\n\u001b[1;32m   1195\u001b[0m \u001b[38;5;66;03m# Do not call functions when jit is used\u001b[39;00m\n\u001b[1;32m   1196\u001b[0m full_backward_hooks, non_full_backward_hooks \u001b[38;5;241m=\u001b[39m [], []\n",
      "\u001b[0;31mTypeError\u001b[0m: CNN.forward() takes 2 positional arguments but 3 were given"
     ]
    }
   ],
   "source": [
    "net = CNN()\n",
    "criterion = nn.CrossEntropyLoss()\n",
    "optimizer = torch.optim.Adam(net.parameters(), lr=0.001)\n",
    "\n",
    "net.to(device)\n",
    "print(device)\n",
    "\n",
    "# the train_cv function needs (num_epochs, df, model, model_name, transformations, n_folds = 5)\n",
    "name = 'CNN_MFCC_baseline_run3'\n",
    "train_loss_dict, val_loss_dict, batch_runtimes, mean_accuracy = train_cv(100, esc50_human, net, name, transform_mfcc)"
   ]
  },
  {
   "cell_type": "code",
   "execution_count": null,
   "id": "305c10fd",
   "metadata": {
    "colab": {
     "base_uri": "https://localhost:8080/"
    },
    "id": "305c10fd",
    "outputId": "984c5ec3-a5bd-47cf-b20e-513b03daa9fe"
   },
   "outputs": [
    {
     "name": "stdout",
     "output_type": "stream",
     "text": [
      "Mean runtime per fold (s): 33.0\n",
      "Mean val accuracy: 0.37\n"
     ]
    }
   ],
   "source": [
    "# show mean validation accuracy over all folds and best epochs\n",
    "print(f\"Mean runtime per fold (s): {np.round(np.mean(batch_runtimes))}\")\n",
    "print(f\"Mean val accuracy: {np.round(mean_accuracy, 2)}\")"
   ]
  },
  {
   "cell_type": "markdown",
   "id": "4f677bc6",
   "metadata": {
    "id": "4f677bc6"
   },
   "source": [
    "### Simple CNN - With Data Augmentation"
   ]
  },
  {
   "cell_type": "code",
   "execution_count": 23,
   "id": "490b57cc",
   "metadata": {
    "colab": {
     "base_uri": "https://localhost:8080/",
     "height": 433
    },
    "id": "490b57cc",
    "outputId": "d22b8f5e-b938-428c-c75b-2a0ab7dbed5f"
   },
   "outputs": [
    {
     "name": "stdout",
     "output_type": "stream",
     "text": [
      "cpu\n",
      "FOLD # 1\n",
      "Begin Training\n",
      "Current lr:0.001\n",
      "Completed training batch 0 Train Loss: 2.3378 Val Loss: 2.3092 Train Accuracy: 0.1075 Val Accuracy: 0.1000\n"
     ]
    },
    {
     "name": "stderr",
     "output_type": "stream",
     "text": [
      "\n",
      "KeyboardInterrupt\n",
      "\n"
     ]
    }
   ],
   "source": [
    "transform = ComposeMany(\n",
    "    [\n",
    "        RandomApply([Noise(min_snr=0.01, max_snr=0.05)], p=0.5),\n",
    "        RandomApply([HighLowPass(sample_rate=RATE)], p=0.5),\n",
    "        RandomApply([Delay(sample_rate=RATE, min_delay=50, max_delay=55)], p=0.5),\n",
    "        transforms.MFCC(sample_rate=RATE, \n",
    "                     n_mfcc=13, \n",
    "                     melkwargs={\"n_fft\": 2048, \"hop_length\": 512, \"n_mels\": 60})\n",
    "    ], num_augmented_samples=5)\n",
    "\n",
    "net = CNN()\n",
    "net.to(device)\n",
    "print(device)\n",
    "\n",
    "criterion = nn.CrossEntropyLoss()\n",
    "optimizer = torch.optim.Adam(net.parameters(), lr=0.001)\n",
    "scheduler = ReduceLROnPlateau(optimizer, 'min', patience=5)\n",
    "# the train_cv function needs (num_epochs, df, model, model_name, transformations, n_folds = 5)\n",
    "name = 'CNN_MFCC_augmented'\n",
    "train_loss_dict, val_loss_dict, batch_runtimes, mean_accuracy = train_cv(100, \n",
    "                                                                         esc50_human, \n",
    "                                                                         net,\n",
    "                                                                         name, \n",
    "                                                                         transform, \n",
    "                                                                         is_augmented=True)"
   ]
  },
  {
   "cell_type": "code",
   "execution_count": null,
   "id": "e7d4e047",
   "metadata": {
    "id": "e7d4e047"
   },
   "outputs": [],
   "source": [
    "# show mean validation accuracy over all folds and best epochs\n",
    "print(f\"Mean runtime per fold (s): {np.round(np.mean(batch_runtimes))}\")\n",
    "print(f\"Mean val accuracy: {np.round(mean_accuracy, 2)}\")"
   ]
  },
  {
   "cell_type": "markdown",
   "id": "8aa06d95",
   "metadata": {},
   "source": [
    "## 2 head CNN"
   ]
  },
  {
   "cell_type": "code",
   "execution_count": 201,
   "id": "17faf29a",
   "metadata": {},
   "outputs": [
    {
     "name": "stdout",
     "output_type": "stream",
     "text": [
      "cpu\n",
      "FOLD # 1\n",
      "Begin Training\n",
      "Completed training batch 0 Train Loss: 149.3362 Val Loss: 63.3371 Train Accuracy: 0.1375 Val Accuracy: 0.1750\n",
      "Completed training batch 1 Train Loss: 30.2459 Val Loss: 16.0155 Train Accuracy: 0.1594 Val Accuracy: 0.1625\n",
      "Completed training batch 2 Train Loss: 4.7224 Val Loss: 6.8830 Train Accuracy: 0.1969 Val Accuracy: 0.1875\n",
      "Completed training batch 3 Train Loss: 3.2299 Val Loss: 4.7036 Train Accuracy: 0.2062 Val Accuracy: 0.1750\n",
      "Completed training batch 4 Train Loss: 2.3740 Val Loss: 3.6253 Train Accuracy: 0.2156 Val Accuracy: 0.1375\n",
      "Completed training batch 5 Train Loss: 2.1588 Val Loss: 3.0551 Train Accuracy: 0.2156 Val Accuracy: 0.1375\n",
      "Completed training batch 6 Train Loss: 2.1730 Val Loss: 2.7216 Train Accuracy: 0.1969 Val Accuracy: 0.1375\n",
      "Completed training batch 7 Train Loss: 1.9555 Val Loss: 2.6838 Train Accuracy: 0.2500 Val Accuracy: 0.1625\n",
      "Completed training batch 8 Train Loss: 1.8415 Val Loss: 2.7578 Train Accuracy: 0.2937 Val Accuracy: 0.1750\n",
      "Completed training batch 9 Train Loss: 1.9160 Val Loss: 2.8245 Train Accuracy: 0.2719 Val Accuracy: 0.1750\n",
      "Completed training batch 10 Train Loss: 1.8067 Val Loss: 2.9126 Train Accuracy: 0.3000 Val Accuracy: 0.1750\n",
      "Completed training batch 11 Train Loss: 1.9143 Val Loss: 2.8732 Train Accuracy: 0.2937 Val Accuracy: 0.1875\n",
      "Completed training batch 12 Train Loss: 1.7976 Val Loss: 2.9864 Train Accuracy: 0.3063 Val Accuracy: 0.1875\n",
      "Completed training batch 13 Train Loss: 1.7328 Val Loss: 3.0517 Train Accuracy: 0.3250 Val Accuracy: 0.1875\n",
      "Completed training batch 14 Train Loss: 1.6838 Val Loss: 3.1166 Train Accuracy: 0.3469 Val Accuracy: 0.1750\n",
      "Completed training batch 15 Train Loss: 1.6335 Val Loss: 3.2416 Train Accuracy: 0.3687 Val Accuracy: 0.2000\n",
      "Completed training batch 16 Train Loss: 1.6169 Val Loss: 3.4476 Train Accuracy: 0.3812 Val Accuracy: 0.2000\n",
      "Completed training batch 17 Train Loss: 1.6314 Val Loss: 3.4236 Train Accuracy: 0.3844 Val Accuracy: 0.2750\n",
      "Completed training batch 18 Train Loss: 1.6652 Val Loss: 3.6467 Train Accuracy: 0.3906 Val Accuracy: 0.2500\n",
      "Completed training batch 19 Train Loss: 1.6193 Val Loss: 3.6156 Train Accuracy: 0.3812 Val Accuracy: 0.2875\n",
      "Completed training batch 20 Train Loss: 1.4845 Val Loss: 3.6421 Train Accuracy: 0.4250 Val Accuracy: 0.2875\n",
      "Completed training batch 21 Train Loss: 1.5788 Val Loss: 3.9204 Train Accuracy: 0.4188 Val Accuracy: 0.3250\n",
      "Completed training batch 22 Train Loss: 1.4629 Val Loss: 4.3122 Train Accuracy: 0.4781 Val Accuracy: 0.3750\n",
      "Completed training batch 23 Train Loss: 1.4508 Val Loss: 4.6794 Train Accuracy: 0.4562 Val Accuracy: 0.3250\n",
      "Completed training batch 24 Train Loss: 1.3899 Val Loss: 4.7237 Train Accuracy: 0.4500 Val Accuracy: 0.3125\n",
      "Completed training batch 25 Train Loss: 1.4673 Val Loss: 4.8180 Train Accuracy: 0.4969 Val Accuracy: 0.3250\n",
      "Completed training batch 26 Train Loss: 1.3857 Val Loss: 5.3104 Train Accuracy: 0.4750 Val Accuracy: 0.3250\n",
      "Completed training batch 27 Train Loss: 1.4900 Val Loss: 5.8437 Train Accuracy: 0.4656 Val Accuracy: 0.3750\n",
      "Completed training batch 28 Train Loss: 1.3748 Val Loss: 6.3120 Train Accuracy: 0.5469 Val Accuracy: 0.3625\n",
      "Completed training batch 29 Train Loss: 1.2829 Val Loss: 6.8238 Train Accuracy: 0.5844 Val Accuracy: 0.3625\n",
      "Completed training batch 30 Train Loss: 1.3542 Val Loss: 7.5203 Train Accuracy: 0.5625 Val Accuracy: 0.3375\n",
      "Completed training batch 31 Train Loss: 1.2837 Val Loss: 7.5681 Train Accuracy: 0.5844 Val Accuracy: 0.3125\n",
      "Completed training batch 32 Train Loss: 1.4269 Val Loss: 7.3006 Train Accuracy: 0.5781 Val Accuracy: 0.3500\n",
      "Completed training batch 33 Train Loss: 1.3099 Val Loss: 7.1716 Train Accuracy: 0.6000 Val Accuracy: 0.3500\n",
      "Completed training batch 34 Train Loss: 1.3253 Val Loss: 7.4127 Train Accuracy: 0.5938 Val Accuracy: 0.3250\n",
      "Completed training batch 35 Train Loss: 1.2187 Val Loss: 7.6996 Train Accuracy: 0.6344 Val Accuracy: 0.3375\n",
      "Completed training batch 36 Train Loss: 1.2667 Val Loss: 8.2458 Train Accuracy: 0.6344 Val Accuracy: 0.3625\n",
      "Completed training batch 37 Train Loss: 1.2223 Val Loss: 9.0524 Train Accuracy: 0.6656 Val Accuracy: 0.3625\n",
      "Completed training batch 38 Train Loss: 1.3278 Val Loss: 9.6040 Train Accuracy: 0.6281 Val Accuracy: 0.4000\n",
      "Completed training batch 39 Train Loss: 1.1447 Val Loss: 10.3582 Train Accuracy: 0.6750 Val Accuracy: 0.3750\n",
      "Completed training batch 40 Train Loss: 1.1721 Val Loss: 10.7892 Train Accuracy: 0.6813 Val Accuracy: 0.3875\n",
      "Completed training batch 41 Train Loss: 1.1924 Val Loss: 10.4489 Train Accuracy: 0.6312 Val Accuracy: 0.3625\n",
      "Completed training batch 42 Train Loss: 1.0950 Val Loss: 10.6879 Train Accuracy: 0.6656 Val Accuracy: 0.3875\n",
      "Completed training batch 43 Train Loss: 1.1307 Val Loss: 10.7951 Train Accuracy: 0.6406 Val Accuracy: 0.4000\n",
      "Completed training batch 44 Train Loss: 1.0759 Val Loss: 10.6063 Train Accuracy: 0.6406 Val Accuracy: 0.4000\n",
      "Completed training batch 45 Train Loss: 1.0437 Val Loss: 11.5683 Train Accuracy: 0.6562 Val Accuracy: 0.3625\n",
      "Completed training batch 46 Train Loss: 1.0070 Val Loss: 13.7089 Train Accuracy: 0.6813 Val Accuracy: 0.3500\n",
      "Completed training batch 47 Train Loss: 1.0303 Val Loss: 15.3939 Train Accuracy: 0.6438 Val Accuracy: 0.3500\n",
      "Completed training batch 48 Train Loss: 0.9632 Val Loss: 17.1976 Train Accuracy: 0.6781 Val Accuracy: 0.3375\n",
      "Completed training batch 49 Train Loss: 1.0148 Val Loss: 18.0078 Train Accuracy: 0.6844 Val Accuracy: 0.2875\n",
      "Completed training batch 50 Train Loss: 0.9767 Val Loss: 18.8391 Train Accuracy: 0.7000 Val Accuracy: 0.3250\n",
      "Completed training batch 51 Train Loss: 0.9396 Val Loss: 18.5744 Train Accuracy: 0.7344 Val Accuracy: 0.3000\n",
      "Completed training batch 52 Train Loss: 1.0641 Val Loss: 12.7588 Train Accuracy: 0.7031 Val Accuracy: 0.3625\n",
      "Completed training batch 53 Train Loss: 0.9453 Val Loss: 11.3624 Train Accuracy: 0.7281 Val Accuracy: 0.3500\n",
      "Completed training batch 54 Train Loss: 1.0149 Val Loss: 11.7338 Train Accuracy: 0.6844 Val Accuracy: 0.3375\n",
      "Completed training batch 55 Train Loss: 1.0771 Val Loss: 12.5422 Train Accuracy: 0.6969 Val Accuracy: 0.3750\n",
      "Completed training batch 56 Train Loss: 0.8651 Val Loss: 13.0065 Train Accuracy: 0.7438 Val Accuracy: 0.3750\n",
      "Completed training batch 57 Train Loss: 0.8359 Val Loss: 13.5404 Train Accuracy: 0.7563 Val Accuracy: 0.4375\n",
      "Completed training batch 58 Train Loss: 0.9634 Val Loss: 13.2702 Train Accuracy: 0.7437 Val Accuracy: 0.4000\n",
      "Early Stopping\n",
      "Finished Training\n"
     ]
    },
    {
     "data": {
      "image/png": "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\n",
      "text/plain": [
       "<Figure size 640x480 with 1 Axes>"
      ]
     },
     "metadata": {},
     "output_type": "display_data"
    },
    {
     "name": "stdout",
     "output_type": "stream",
     "text": [
      "Fold 1 runtime: 248.9544289112091\n",
      "FOLD # 2\n",
      "Begin Training\n",
      "Completed training batch 0 Train Loss: 145.2537 Val Loss: 35.3129 Train Accuracy: 0.1094 Val Accuracy: 0.1375\n",
      "Completed training batch 1 Train Loss: 11.6038 Val Loss: 8.4806 Train Accuracy: 0.1344 Val Accuracy: 0.1250\n",
      "Completed training batch 2 Train Loss: 3.5990 Val Loss: 4.1613 Train Accuracy: 0.1687 Val Accuracy: 0.1125\n",
      "Completed training batch 3 Train Loss: 2.9647 Val Loss: 3.6942 Train Accuracy: 0.2500 Val Accuracy: 0.2250\n",
      "Completed training batch 4 Train Loss: 2.0895 Val Loss: 3.4459 Train Accuracy: 0.2812 Val Accuracy: 0.2500\n",
      "Completed training batch 5 Train Loss: 2.0709 Val Loss: 3.3767 Train Accuracy: 0.2969 Val Accuracy: 0.2375\n",
      "Completed training batch 6 Train Loss: 1.9109 Val Loss: 3.2513 Train Accuracy: 0.3219 Val Accuracy: 0.2375\n",
      "Completed training batch 7 Train Loss: 1.8672 Val Loss: 3.0832 Train Accuracy: 0.3719 Val Accuracy: 0.2625\n",
      "Completed training batch 8 Train Loss: 1.7812 Val Loss: 2.9294 Train Accuracy: 0.3875 Val Accuracy: 0.3000\n",
      "Completed training batch 9 Train Loss: 1.6671 Val Loss: 2.9321 Train Accuracy: 0.4187 Val Accuracy: 0.3000\n",
      "Completed training batch 10 Train Loss: 1.6588 Val Loss: 3.0272 Train Accuracy: 0.4219 Val Accuracy: 0.3125\n",
      "Completed training batch 11 Train Loss: 1.6442 Val Loss: 2.9008 Train Accuracy: 0.4375 Val Accuracy: 0.3375\n",
      "Completed training batch 12 Train Loss: 1.6139 Val Loss: 2.9925 Train Accuracy: 0.4250 Val Accuracy: 0.3125\n",
      "Completed training batch 13 Train Loss: 1.5229 Val Loss: 3.3280 Train Accuracy: 0.4562 Val Accuracy: 0.3250\n",
      "Completed training batch 14 Train Loss: 1.4916 Val Loss: 3.5532 Train Accuracy: 0.4625 Val Accuracy: 0.3375\n",
      "Completed training batch 15 Train Loss: 1.5240 Val Loss: 3.4691 Train Accuracy: 0.4625 Val Accuracy: 0.3125\n",
      "Completed training batch 16 Train Loss: 1.4433 Val Loss: 3.4766 Train Accuracy: 0.4750 Val Accuracy: 0.3250\n",
      "Completed training batch 17 Train Loss: 1.5102 Val Loss: 3.6046 Train Accuracy: 0.4938 Val Accuracy: 0.3250\n",
      "Completed training batch 18 Train Loss: 1.3792 Val Loss: 3.7577 Train Accuracy: 0.5031 Val Accuracy: 0.3250\n",
      "Completed training batch 19 Train Loss: 1.4488 Val Loss: 4.0881 Train Accuracy: 0.4875 Val Accuracy: 0.3375\n",
      "Completed training batch 20 Train Loss: 1.3279 Val Loss: 4.3889 Train Accuracy: 0.5344 Val Accuracy: 0.3625\n",
      "Completed training batch 21 Train Loss: 1.3131 Val Loss: 4.2967 Train Accuracy: 0.5281 Val Accuracy: 0.3500\n",
      "Completed training batch 22 Train Loss: 1.2454 Val Loss: 4.4062 Train Accuracy: 0.5750 Val Accuracy: 0.3125\n",
      "Completed training batch 23 Train Loss: 1.3327 Val Loss: 4.3759 Train Accuracy: 0.5625 Val Accuracy: 0.3125\n",
      "Completed training batch 24 Train Loss: 1.2825 Val Loss: 4.7765 Train Accuracy: 0.5500 Val Accuracy: 0.3125\n",
      "Completed training batch 25 Train Loss: 1.2412 Val Loss: 4.7738 Train Accuracy: 0.5531 Val Accuracy: 0.3125\n",
      "Completed training batch 26 Train Loss: 1.1849 Val Loss: 4.8942 Train Accuracy: 0.5969 Val Accuracy: 0.3000\n",
      "Completed training batch 27 Train Loss: 1.1843 Val Loss: 5.3482 Train Accuracy: 0.5781 Val Accuracy: 0.3000\n",
      "Completed training batch 28 Train Loss: 1.2087 Val Loss: 4.5499 Train Accuracy: 0.6000 Val Accuracy: 0.3750\n",
      "Completed training batch 29 Train Loss: 1.1402 Val Loss: 4.5155 Train Accuracy: 0.6312 Val Accuracy: 0.3750\n",
      "Completed training batch 30 Train Loss: 1.2356 Val Loss: 4.6733 Train Accuracy: 0.5906 Val Accuracy: 0.4000\n",
      "Completed training batch 31 Train Loss: 1.1190 Val Loss: 5.0938 Train Accuracy: 0.6219 Val Accuracy: 0.4250\n",
      "Completed training batch 32 Train Loss: 1.1239 Val Loss: 5.1029 Train Accuracy: 0.6281 Val Accuracy: 0.4125\n",
      "Completed training batch 33 Train Loss: 1.0586 Val Loss: 5.0127 Train Accuracy: 0.6625 Val Accuracy: 0.3625\n",
      "Completed training batch 34 Train Loss: 1.2484 Val Loss: 5.3470 Train Accuracy: 0.6125 Val Accuracy: 0.3000\n",
      "Completed training batch 35 Train Loss: 1.2494 Val Loss: 6.1008 Train Accuracy: 0.6281 Val Accuracy: 0.3375\n",
      "Completed training batch 36 Train Loss: 1.0832 Val Loss: 6.2689 Train Accuracy: 0.6531 Val Accuracy: 0.3000\n",
      "Completed training batch 37 Train Loss: 1.2083 Val Loss: 6.1358 Train Accuracy: 0.6156 Val Accuracy: 0.3500\n",
      "Completed training batch 38 Train Loss: 1.1268 Val Loss: 6.8193 Train Accuracy: 0.6281 Val Accuracy: 0.3500\n",
      "Completed training batch 39 Train Loss: 1.2702 Val Loss: 8.0067 Train Accuracy: 0.6312 Val Accuracy: 0.3500\n",
      "Completed training batch 40 Train Loss: 1.2804 Val Loss: 7.4914 Train Accuracy: 0.6031 Val Accuracy: 0.3375\n",
      "Completed training batch 41 Train Loss: 1.0972 Val Loss: 7.0628 Train Accuracy: 0.6188 Val Accuracy: 0.3250\n",
      "Completed training batch 42 Train Loss: 1.0845 Val Loss: 7.2348 Train Accuracy: 0.6375 Val Accuracy: 0.3125\n",
      "Completed training batch 43 Train Loss: 1.0798 Val Loss: 7.1873 Train Accuracy: 0.6500 Val Accuracy: 0.3375\n",
      "Completed training batch 44 Train Loss: 1.0243 Val Loss: 6.8753 Train Accuracy: 0.6531 Val Accuracy: 0.3375\n",
      "Completed training batch 45 Train Loss: 0.9776 Val Loss: 6.9228 Train Accuracy: 0.6750 Val Accuracy: 0.3625\n",
      "Completed training batch 46 Train Loss: 0.9358 Val Loss: 7.1508 Train Accuracy: 0.6813 Val Accuracy: 0.3375\n",
      "Completed training batch 47 Train Loss: 1.1164 Val Loss: 7.1830 Train Accuracy: 0.6562 Val Accuracy: 0.3500\n",
      "Completed training batch 48 Train Loss: 0.9944 Val Loss: 7.4757 Train Accuracy: 0.6562 Val Accuracy: 0.4000\n",
      "Completed training batch 49 Train Loss: 1.0045 Val Loss: 7.2012 Train Accuracy: 0.6562 Val Accuracy: 0.3750\n",
      "Completed training batch 50 Train Loss: 0.9278 Val Loss: 7.3268 Train Accuracy: 0.7031 Val Accuracy: 0.4000\n",
      "Completed training batch 51 Train Loss: 0.8772 Val Loss: 7.4117 Train Accuracy: 0.6906 Val Accuracy: 0.3750\n",
      "Completed training batch 52 Train Loss: 0.9581 Val Loss: 7.6783 Train Accuracy: 0.6781 Val Accuracy: 0.3875\n",
      "Completed training batch 53 Train Loss: 0.9676 Val Loss: 8.1909 Train Accuracy: 0.6937 Val Accuracy: 0.3750\n",
      "Completed training batch 54 Train Loss: 0.8257 Val Loss: 9.2640 Train Accuracy: 0.7125 Val Accuracy: 0.3625\n",
      "Completed training batch 55 Train Loss: 0.9282 Val Loss: 9.4409 Train Accuracy: 0.7000 Val Accuracy: 0.3875\n",
      "Completed training batch 56 Train Loss: 0.8639 Val Loss: 9.1206 Train Accuracy: 0.7250 Val Accuracy: 0.4250\n",
      "Completed training batch 57 Train Loss: 0.8811 Val Loss: 8.5907 Train Accuracy: 0.7406 Val Accuracy: 0.4250\n",
      "Completed training batch 58 Train Loss: 1.0073 Val Loss: 8.5799 Train Accuracy: 0.7063 Val Accuracy: 0.4500\n",
      "Completed training batch 59 Train Loss: 0.8152 Val Loss: 9.0713 Train Accuracy: 0.7344 Val Accuracy: 0.4625\n",
      "Completed training batch 60 Train Loss: 0.7986 Val Loss: 9.4537 Train Accuracy: 0.7437 Val Accuracy: 0.4500\n",
      "Completed training batch 61 Train Loss: 0.8046 Val Loss: 9.6858 Train Accuracy: 0.7219 Val Accuracy: 0.4375\n",
      "Completed training batch 62 Train Loss: 0.8796 Val Loss: 9.8474 Train Accuracy: 0.7500 Val Accuracy: 0.4500\n",
      "Early Stopping\n",
      "Finished Training\n"
     ]
    },
    {
     "data": {
      "image/png": "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\n",
      "text/plain": [
       "<Figure size 640x480 with 1 Axes>"
      ]
     },
     "metadata": {},
     "output_type": "display_data"
    },
    {
     "name": "stdout",
     "output_type": "stream",
     "text": [
      "Fold 2 runtime: 288.574138879776\n",
      "FOLD # 3\n",
      "Begin Training\n",
      "Completed training batch 0 Train Loss: 162.9604 Val Loss: 65.1704 Train Accuracy: 0.1062 Val Accuracy: 0.1500\n",
      "Completed training batch 1 Train Loss: 14.9478 Val Loss: 6.8643 Train Accuracy: 0.1719 Val Accuracy: 0.2375\n",
      "Completed training batch 2 Train Loss: 4.2128 Val Loss: 4.8276 Train Accuracy: 0.2531 Val Accuracy: 0.2000\n",
      "Completed training batch 3 Train Loss: 2.5595 Val Loss: 3.5821 Train Accuracy: 0.2375 Val Accuracy: 0.2250\n",
      "Completed training batch 4 Train Loss: 2.1338 Val Loss: 3.4143 Train Accuracy: 0.2812 Val Accuracy: 0.2375\n",
      "Completed training batch 5 Train Loss: 2.2758 Val Loss: 3.7619 Train Accuracy: 0.3031 Val Accuracy: 0.2375\n",
      "Completed training batch 6 Train Loss: 2.0782 Val Loss: 4.0103 Train Accuracy: 0.2969 Val Accuracy: 0.2625\n",
      "Completed training batch 7 Train Loss: 2.1062 Val Loss: 4.0170 Train Accuracy: 0.2969 Val Accuracy: 0.2250\n",
      "Completed training batch 8 Train Loss: 1.8906 Val Loss: 3.9656 Train Accuracy: 0.3094 Val Accuracy: 0.2250\n",
      "Completed training batch 9 Train Loss: 1.9316 Val Loss: 3.7469 Train Accuracy: 0.3125 Val Accuracy: 0.2250\n",
      "Completed training batch 10 Train Loss: 1.8345 Val Loss: 3.9472 Train Accuracy: 0.3500 Val Accuracy: 0.2625\n",
      "Completed training batch 11 Train Loss: 1.9448 Val Loss: 4.2084 Train Accuracy: 0.3406 Val Accuracy: 0.2625\n",
      "Completed training batch 12 Train Loss: 1.8211 Val Loss: 3.7290 Train Accuracy: 0.3594 Val Accuracy: 0.3000\n",
      "Completed training batch 13 Train Loss: 1.6856 Val Loss: 3.5235 Train Accuracy: 0.3969 Val Accuracy: 0.2750\n",
      "Completed training batch 14 Train Loss: 1.7087 Val Loss: 3.6238 Train Accuracy: 0.3750 Val Accuracy: 0.2750\n",
      "Completed training batch 15 Train Loss: 1.6633 Val Loss: 3.7731 Train Accuracy: 0.3906 Val Accuracy: 0.2750\n",
      "Completed training batch 16 Train Loss: 1.7276 Val Loss: 3.9159 Train Accuracy: 0.4063 Val Accuracy: 0.2750\n",
      "Completed training batch 17 Train Loss: 1.6231 Val Loss: 3.9028 Train Accuracy: 0.4188 Val Accuracy: 0.2750\n",
      "Completed training batch 18 Train Loss: 1.6808 Val Loss: 3.8175 Train Accuracy: 0.4000 Val Accuracy: 0.2875\n",
      "Completed training batch 19 Train Loss: 1.6552 Val Loss: 3.8384 Train Accuracy: 0.3844 Val Accuracy: 0.2875\n",
      "Completed training batch 20 Train Loss: 1.6014 Val Loss: 3.9413 Train Accuracy: 0.4062 Val Accuracy: 0.2875\n",
      "Completed training batch 21 Train Loss: 1.6465 Val Loss: 4.1223 Train Accuracy: 0.3937 Val Accuracy: 0.2875\n",
      "Completed training batch 22 Train Loss: 1.5379 Val Loss: 4.4835 Train Accuracy: 0.4250 Val Accuracy: 0.3000\n",
      "Completed training batch 23 Train Loss: 1.5259 Val Loss: 4.9258 Train Accuracy: 0.4156 Val Accuracy: 0.2625\n",
      "Completed training batch 24 Train Loss: 1.4587 Val Loss: 4.8958 Train Accuracy: 0.4531 Val Accuracy: 0.2375\n",
      "Completed training batch 25 Train Loss: 1.5516 Val Loss: 5.3613 Train Accuracy: 0.4469 Val Accuracy: 0.2625\n",
      "Completed training batch 26 Train Loss: 1.4846 Val Loss: 5.6540 Train Accuracy: 0.4406 Val Accuracy: 0.3000\n",
      "Completed training batch 27 Train Loss: 1.4935 Val Loss: 5.1809 Train Accuracy: 0.4563 Val Accuracy: 0.2875\n",
      "Completed training batch 28 Train Loss: 1.5117 Val Loss: 5.2367 Train Accuracy: 0.4375 Val Accuracy: 0.2750\n",
      "Completed training batch 29 Train Loss: 1.5448 Val Loss: 4.9657 Train Accuracy: 0.4437 Val Accuracy: 0.3000\n",
      "Completed training batch 30 Train Loss: 1.4079 Val Loss: 4.8291 Train Accuracy: 0.4781 Val Accuracy: 0.2875\n",
      "Completed training batch 31 Train Loss: 1.4448 Val Loss: 5.0142 Train Accuracy: 0.4469 Val Accuracy: 0.2875\n",
      "Completed training batch 32 Train Loss: 1.4363 Val Loss: 5.1817 Train Accuracy: 0.4531 Val Accuracy: 0.2875\n",
      "Completed training batch 33 Train Loss: 1.4532 Val Loss: 5.4338 Train Accuracy: 0.4406 Val Accuracy: 0.2875\n",
      "Completed training batch 34 Train Loss: 1.4228 Val Loss: 5.4794 Train Accuracy: 0.4688 Val Accuracy: 0.3125\n",
      "Completed training batch 35 Train Loss: 1.3633 Val Loss: 5.2611 Train Accuracy: 0.4781 Val Accuracy: 0.2875\n",
      "Completed training batch 36 Train Loss: 1.3520 Val Loss: 5.3020 Train Accuracy: 0.4875 Val Accuracy: 0.2750\n",
      "Completed training batch 37 Train Loss: 1.3681 Val Loss: 5.5434 Train Accuracy: 0.4781 Val Accuracy: 0.2750\n",
      "Completed training batch 38 Train Loss: 1.3892 Val Loss: 5.6281 Train Accuracy: 0.4969 Val Accuracy: 0.2875\n",
      "Completed training batch 39 Train Loss: 1.3309 Val Loss: 5.8361 Train Accuracy: 0.4969 Val Accuracy: 0.2750\n",
      "Completed training batch 40 Train Loss: 1.3457 Val Loss: 6.0318 Train Accuracy: 0.4750 Val Accuracy: 0.2875\n",
      "Completed training batch 41 Train Loss: 1.3567 Val Loss: 5.5117 Train Accuracy: 0.4750 Val Accuracy: 0.2875\n",
      "Completed training batch 42 Train Loss: 1.3520 Val Loss: 4.9656 Train Accuracy: 0.4813 Val Accuracy: 0.2625\n",
      "Completed training batch 43 Train Loss: 1.3543 Val Loss: 4.4879 Train Accuracy: 0.4813 Val Accuracy: 0.2625\n",
      "Completed training batch 44 Train Loss: 1.3745 Val Loss: 4.5098 Train Accuracy: 0.4844 Val Accuracy: 0.2500\n",
      "Completed training batch 45 Train Loss: 1.3879 Val Loss: 4.9149 Train Accuracy: 0.4781 Val Accuracy: 0.2625\n",
      "Completed training batch 46 Train Loss: 1.3008 Val Loss: 5.4718 Train Accuracy: 0.5094 Val Accuracy: 0.2750\n",
      "Completed training batch 47 Train Loss: 1.3419 Val Loss: 6.0041 Train Accuracy: 0.5031 Val Accuracy: 0.2875\n",
      "Completed training batch 48 Train Loss: 1.3392 Val Loss: 5.9431 Train Accuracy: 0.4875 Val Accuracy: 0.3000\n",
      "Completed training batch 49 Train Loss: 1.2776 Val Loss: 5.9385 Train Accuracy: 0.4844 Val Accuracy: 0.3000\n",
      "Completed training batch 50 Train Loss: 1.3145 Val Loss: 5.5529 Train Accuracy: 0.5250 Val Accuracy: 0.3000\n",
      "Completed training batch 51 Train Loss: 1.2345 Val Loss: 4.9909 Train Accuracy: 0.6062 Val Accuracy: 0.3125\n",
      "Completed training batch 52 Train Loss: 1.2346 Val Loss: 5.1309 Train Accuracy: 0.6094 Val Accuracy: 0.3125\n",
      "Completed training batch 53 Train Loss: 1.2923 Val Loss: 5.3373 Train Accuracy: 0.6125 Val Accuracy: 0.3125\n",
      "Completed training batch 54 Train Loss: 1.2979 Val Loss: 5.0279 Train Accuracy: 0.5875 Val Accuracy: 0.3125\n",
      "Early Stopping\n",
      "Finished Training\n"
     ]
    },
    {
     "data": {
      "image/png": "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\n",
      "text/plain": [
       "<Figure size 640x480 with 1 Axes>"
      ]
     },
     "metadata": {},
     "output_type": "display_data"
    },
    {
     "name": "stdout",
     "output_type": "stream",
     "text": [
      "Fold 3 runtime: 234.57975482940674\n",
      "FOLD # 4\n",
      "Begin Training\n",
      "Completed training batch 0 Train Loss: 85.3086 Val Loss: 24.6544 Train Accuracy: 0.1281 Val Accuracy: 0.2000\n",
      "Completed training batch 1 Train Loss: 8.2911 Val Loss: 9.9040 Train Accuracy: 0.1938 Val Accuracy: 0.2250\n",
      "Completed training batch 2 Train Loss: 4.0386 Val Loss: 5.8498 Train Accuracy: 0.2344 Val Accuracy: 0.2000\n",
      "Completed training batch 3 Train Loss: 3.2057 Val Loss: 4.7656 Train Accuracy: 0.2062 Val Accuracy: 0.1750\n",
      "Completed training batch 4 Train Loss: 2.3002 Val Loss: 4.1676 Train Accuracy: 0.2375 Val Accuracy: 0.1500\n",
      "Completed training batch 5 Train Loss: 2.0643 Val Loss: 3.2595 Train Accuracy: 0.2563 Val Accuracy: 0.1625\n",
      "Completed training batch 6 Train Loss: 2.1648 Val Loss: 3.1275 Train Accuracy: 0.2625 Val Accuracy: 0.1750\n",
      "Completed training batch 7 Train Loss: 1.9782 Val Loss: 3.5616 Train Accuracy: 0.2562 Val Accuracy: 0.1875\n",
      "Completed training batch 8 Train Loss: 1.8708 Val Loss: 3.6417 Train Accuracy: 0.3219 Val Accuracy: 0.2000\n",
      "Completed training batch 9 Train Loss: 1.8124 Val Loss: 3.3115 Train Accuracy: 0.3344 Val Accuracy: 0.2375\n",
      "Completed training batch 10 Train Loss: 1.6721 Val Loss: 3.2909 Train Accuracy: 0.3375 Val Accuracy: 0.2375\n",
      "Completed training batch 11 Train Loss: 1.6660 Val Loss: 3.4767 Train Accuracy: 0.3375 Val Accuracy: 0.2500\n",
      "Completed training batch 12 Train Loss: 1.6518 Val Loss: 3.7491 Train Accuracy: 0.3656 Val Accuracy: 0.2500\n",
      "Completed training batch 13 Train Loss: 1.5920 Val Loss: 4.0335 Train Accuracy: 0.3906 Val Accuracy: 0.2500\n",
      "Completed training batch 14 Train Loss: 1.5823 Val Loss: 4.1879 Train Accuracy: 0.4187 Val Accuracy: 0.2250\n",
      "Completed training batch 15 Train Loss: 1.5067 Val Loss: 3.8697 Train Accuracy: 0.4562 Val Accuracy: 0.2375\n",
      "Completed training batch 16 Train Loss: 1.4764 Val Loss: 3.6931 Train Accuracy: 0.4625 Val Accuracy: 0.2375\n",
      "Completed training batch 17 Train Loss: 1.4743 Val Loss: 3.8448 Train Accuracy: 0.4562 Val Accuracy: 0.2500\n",
      "Completed training batch 18 Train Loss: 1.3852 Val Loss: 4.1738 Train Accuracy: 0.4812 Val Accuracy: 0.2500\n",
      "Completed training batch 19 Train Loss: 1.3579 Val Loss: 4.5583 Train Accuracy: 0.5156 Val Accuracy: 0.2500\n",
      "Completed training batch 20 Train Loss: 1.3817 Val Loss: 4.5580 Train Accuracy: 0.4875 Val Accuracy: 0.2750\n",
      "Completed training batch 21 Train Loss: 1.3073 Val Loss: 4.4327 Train Accuracy: 0.5187 Val Accuracy: 0.2625\n",
      "Completed training batch 22 Train Loss: 1.2995 Val Loss: 4.5478 Train Accuracy: 0.5406 Val Accuracy: 0.2750\n",
      "Completed training batch 23 Train Loss: 1.2278 Val Loss: 4.8989 Train Accuracy: 0.5375 Val Accuracy: 0.2750\n",
      "Completed training batch 24 Train Loss: 1.4569 Val Loss: 4.9009 Train Accuracy: 0.5281 Val Accuracy: 0.2875\n",
      "Completed training batch 25 Train Loss: 1.2425 Val Loss: 4.9085 Train Accuracy: 0.5625 Val Accuracy: 0.2500\n",
      "Completed training batch 26 Train Loss: 1.2105 Val Loss: 4.9607 Train Accuracy: 0.5813 Val Accuracy: 0.2625\n",
      "Completed training batch 27 Train Loss: 1.2714 Val Loss: 4.9961 Train Accuracy: 0.5656 Val Accuracy: 0.2750\n",
      "Completed training batch 28 Train Loss: 1.1480 Val Loss: 5.0517 Train Accuracy: 0.5969 Val Accuracy: 0.2625\n",
      "Completed training batch 29 Train Loss: 1.1631 Val Loss: 5.2381 Train Accuracy: 0.5750 Val Accuracy: 0.3125\n",
      "Completed training batch 30 Train Loss: 1.1777 Val Loss: 4.7692 Train Accuracy: 0.5781 Val Accuracy: 0.3500\n",
      "Completed training batch 31 Train Loss: 1.1798 Val Loss: 4.9501 Train Accuracy: 0.5938 Val Accuracy: 0.3000\n",
      "Completed training batch 32 Train Loss: 1.2105 Val Loss: 4.9685 Train Accuracy: 0.5906 Val Accuracy: 0.3125\n",
      "Completed training batch 33 Train Loss: 1.2027 Val Loss: 4.9690 Train Accuracy: 0.5625 Val Accuracy: 0.3750\n",
      "Completed training batch 34 Train Loss: 1.1905 Val Loss: 5.0820 Train Accuracy: 0.5875 Val Accuracy: 0.3250\n",
      "Completed training batch 35 Train Loss: 1.1339 Val Loss: 5.4352 Train Accuracy: 0.6062 Val Accuracy: 0.3500\n",
      "Completed training batch 36 Train Loss: 1.1487 Val Loss: 5.6150 Train Accuracy: 0.5969 Val Accuracy: 0.3375\n",
      "Completed training batch 37 Train Loss: 1.0753 Val Loss: 5.7444 Train Accuracy: 0.6000 Val Accuracy: 0.3250\n",
      "Completed training batch 38 Train Loss: 1.1402 Val Loss: 5.5334 Train Accuracy: 0.6062 Val Accuracy: 0.3500\n",
      "Completed training batch 39 Train Loss: 1.0747 Val Loss: 5.1310 Train Accuracy: 0.6094 Val Accuracy: 0.3500\n",
      "Completed training batch 40 Train Loss: 1.0016 Val Loss: 5.0543 Train Accuracy: 0.6406 Val Accuracy: 0.3500\n",
      "Completed training batch 41 Train Loss: 1.0783 Val Loss: 5.3552 Train Accuracy: 0.6344 Val Accuracy: 0.3500\n",
      "Completed training batch 42 Train Loss: 1.0245 Val Loss: 5.8020 Train Accuracy: 0.6312 Val Accuracy: 0.3375\n",
      "Completed training batch 43 Train Loss: 1.0223 Val Loss: 6.4640 Train Accuracy: 0.6406 Val Accuracy: 0.3500\n",
      "Completed training batch 44 Train Loss: 1.0861 Val Loss: 7.0919 Train Accuracy: 0.6687 Val Accuracy: 0.3375\n",
      "Completed training batch 45 Train Loss: 0.9469 Val Loss: 7.1155 Train Accuracy: 0.6781 Val Accuracy: 0.3500\n",
      "Completed training batch 46 Train Loss: 0.9579 Val Loss: 6.8543 Train Accuracy: 0.6969 Val Accuracy: 0.3250\n",
      "Completed training batch 47 Train Loss: 0.9141 Val Loss: 6.8737 Train Accuracy: 0.7094 Val Accuracy: 0.3125\n",
      "Completed training batch 48 Train Loss: 0.9271 Val Loss: 7.4460 Train Accuracy: 0.6875 Val Accuracy: 0.3500\n",
      "Completed training batch 49 Train Loss: 0.9561 Val Loss: 7.7257 Train Accuracy: 0.6812 Val Accuracy: 0.3625\n",
      "Completed training batch 50 Train Loss: 0.8709 Val Loss: 7.6284 Train Accuracy: 0.7188 Val Accuracy: 0.3375\n",
      "Completed training batch 51 Train Loss: 0.9223 Val Loss: 6.4504 Train Accuracy: 0.6812 Val Accuracy: 0.4000\n",
      "Completed training batch 52 Train Loss: 0.9314 Val Loss: 6.4297 Train Accuracy: 0.7125 Val Accuracy: 0.4125\n",
      "Completed training batch 53 Train Loss: 0.9184 Val Loss: 6.5897 Train Accuracy: 0.6875 Val Accuracy: 0.4000\n",
      "Completed training batch 54 Train Loss: 0.8609 Val Loss: 6.9279 Train Accuracy: 0.7250 Val Accuracy: 0.3875\n",
      "Completed training batch 55 Train Loss: 0.8919 Val Loss: 7.0886 Train Accuracy: 0.7031 Val Accuracy: 0.3750\n",
      "Completed training batch 56 Train Loss: 0.8611 Val Loss: 6.7562 Train Accuracy: 0.7063 Val Accuracy: 0.3750\n",
      "Early Stopping\n",
      "Finished Training\n"
     ]
    },
    {
     "data": {
      "image/png": "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\n",
      "text/plain": [
       "<Figure size 640x480 with 1 Axes>"
      ]
     },
     "metadata": {},
     "output_type": "display_data"
    },
    {
     "name": "stdout",
     "output_type": "stream",
     "text": [
      "Fold 4 runtime: 246.09154081344604\n",
      "FOLD # 5\n",
      "Begin Training\n",
      "Completed training batch 0 Train Loss: 119.0688 Val Loss: 55.3996 Train Accuracy: 0.0844 Val Accuracy: 0.0625\n",
      "Completed training batch 1 Train Loss: 26.0088 Val Loss: 10.4595 Train Accuracy: 0.1594 Val Accuracy: 0.2375\n",
      "Completed training batch 2 Train Loss: 6.3398 Val Loss: 11.2798 Train Accuracy: 0.2000 Val Accuracy: 0.2125\n",
      "Completed training batch 3 Train Loss: 4.4333 Val Loss: 6.2327 Train Accuracy: 0.2375 Val Accuracy: 0.1625\n",
      "Completed training batch 4 Train Loss: 2.3611 Val Loss: 3.7880 Train Accuracy: 0.2625 Val Accuracy: 0.3000\n",
      "Completed training batch 5 Train Loss: 2.4573 Val Loss: 3.3886 Train Accuracy: 0.2656 Val Accuracy: 0.3125\n",
      "Completed training batch 6 Train Loss: 1.8928 Val Loss: 3.4520 Train Accuracy: 0.3094 Val Accuracy: 0.2625\n",
      "Completed training batch 7 Train Loss: 1.8491 Val Loss: 3.5805 Train Accuracy: 0.3438 Val Accuracy: 0.2500\n",
      "Completed training batch 8 Train Loss: 1.8883 Val Loss: 3.4810 Train Accuracy: 0.3844 Val Accuracy: 0.2625\n",
      "Completed training batch 9 Train Loss: 1.7222 Val Loss: 3.4761 Train Accuracy: 0.3750 Val Accuracy: 0.2750\n",
      "Completed training batch 10 Train Loss: 1.6307 Val Loss: 3.6786 Train Accuracy: 0.4187 Val Accuracy: 0.2625\n",
      "Completed training batch 11 Train Loss: 1.8402 Val Loss: 3.8674 Train Accuracy: 0.3937 Val Accuracy: 0.2375\n",
      "Completed training batch 12 Train Loss: 1.5585 Val Loss: 4.1430 Train Accuracy: 0.4156 Val Accuracy: 0.2500\n",
      "Completed training batch 13 Train Loss: 1.6388 Val Loss: 4.3335 Train Accuracy: 0.3937 Val Accuracy: 0.2375\n",
      "Completed training batch 14 Train Loss: 1.6277 Val Loss: 4.5199 Train Accuracy: 0.4156 Val Accuracy: 0.2375\n",
      "Completed training batch 15 Train Loss: 1.4766 Val Loss: 4.7113 Train Accuracy: 0.4625 Val Accuracy: 0.2500\n",
      "Completed training batch 16 Train Loss: 1.5061 Val Loss: 5.0502 Train Accuracy: 0.4531 Val Accuracy: 0.2375\n",
      "Completed training batch 17 Train Loss: 1.4630 Val Loss: 5.6162 Train Accuracy: 0.4719 Val Accuracy: 0.2500\n",
      "Completed training batch 18 Train Loss: 1.4084 Val Loss: 6.0624 Train Accuracy: 0.4906 Val Accuracy: 0.2875\n",
      "Completed training batch 19 Train Loss: 1.4709 Val Loss: 6.0277 Train Accuracy: 0.4781 Val Accuracy: 0.2875\n",
      "Completed training batch 20 Train Loss: 1.3556 Val Loss: 5.9216 Train Accuracy: 0.4688 Val Accuracy: 0.3125\n",
      "Completed training batch 21 Train Loss: 1.2779 Val Loss: 6.0277 Train Accuracy: 0.5063 Val Accuracy: 0.3125\n",
      "Completed training batch 22 Train Loss: 1.3552 Val Loss: 5.5320 Train Accuracy: 0.4875 Val Accuracy: 0.3125\n",
      "Completed training batch 23 Train Loss: 1.2875 Val Loss: 5.3921 Train Accuracy: 0.4875 Val Accuracy: 0.3125\n",
      "Completed training batch 24 Train Loss: 1.2852 Val Loss: 5.4957 Train Accuracy: 0.5219 Val Accuracy: 0.3250\n",
      "Completed training batch 25 Train Loss: 1.3585 Val Loss: 5.6165 Train Accuracy: 0.5219 Val Accuracy: 0.3375\n",
      "Completed training batch 26 Train Loss: 1.2086 Val Loss: 5.8141 Train Accuracy: 0.5437 Val Accuracy: 0.3375\n",
      "Completed training batch 27 Train Loss: 1.2053 Val Loss: 5.8474 Train Accuracy: 0.5594 Val Accuracy: 0.3625\n",
      "Completed training batch 28 Train Loss: 1.2196 Val Loss: 5.6506 Train Accuracy: 0.5469 Val Accuracy: 0.3375\n",
      "Completed training batch 29 Train Loss: 1.1962 Val Loss: 5.6439 Train Accuracy: 0.5875 Val Accuracy: 0.3250\n",
      "Completed training batch 30 Train Loss: 1.2251 Val Loss: 5.8080 Train Accuracy: 0.5781 Val Accuracy: 0.3500\n",
      "Completed training batch 31 Train Loss: 1.2255 Val Loss: 6.0403 Train Accuracy: 0.5625 Val Accuracy: 0.3250\n",
      "Completed training batch 32 Train Loss: 1.2682 Val Loss: 6.3179 Train Accuracy: 0.5594 Val Accuracy: 0.3125\n",
      "Completed training batch 33 Train Loss: 1.1956 Val Loss: 6.5092 Train Accuracy: 0.5875 Val Accuracy: 0.3500\n",
      "Completed training batch 34 Train Loss: 1.1938 Val Loss: 6.4931 Train Accuracy: 0.5750 Val Accuracy: 0.3625\n",
      "Completed training batch 35 Train Loss: 1.1434 Val Loss: 6.3902 Train Accuracy: 0.5969 Val Accuracy: 0.3750\n",
      "Completed training batch 36 Train Loss: 1.1711 Val Loss: 6.3851 Train Accuracy: 0.5938 Val Accuracy: 0.3625\n",
      "Completed training batch 37 Train Loss: 1.1449 Val Loss: 6.2677 Train Accuracy: 0.5875 Val Accuracy: 0.3625\n",
      "Completed training batch 38 Train Loss: 1.0580 Val Loss: 6.1195 Train Accuracy: 0.6344 Val Accuracy: 0.4000\n",
      "Completed training batch 39 Train Loss: 1.1516 Val Loss: 5.7317 Train Accuracy: 0.6188 Val Accuracy: 0.3875\n",
      "Completed training batch 40 Train Loss: 1.1023 Val Loss: 5.8788 Train Accuracy: 0.6125 Val Accuracy: 0.3500\n",
      "Completed training batch 41 Train Loss: 1.0834 Val Loss: 6.1937 Train Accuracy: 0.6281 Val Accuracy: 0.3250\n",
      "Completed training batch 42 Train Loss: 1.0344 Val Loss: 6.4500 Train Accuracy: 0.6313 Val Accuracy: 0.3000\n",
      "Completed training batch 43 Train Loss: 1.0519 Val Loss: 6.7436 Train Accuracy: 0.6344 Val Accuracy: 0.3125\n",
      "Completed training batch 44 Train Loss: 1.2268 Val Loss: 6.6869 Train Accuracy: 0.6344 Val Accuracy: 0.3875\n",
      "Completed training batch 45 Train Loss: 1.2668 Val Loss: 6.6946 Train Accuracy: 0.6062 Val Accuracy: 0.3500\n",
      "Completed training batch 46 Train Loss: 1.2199 Val Loss: 6.6225 Train Accuracy: 0.6313 Val Accuracy: 0.3875\n",
      "Completed training batch 47 Train Loss: 1.0944 Val Loss: 7.0462 Train Accuracy: 0.6125 Val Accuracy: 0.3625\n",
      "Completed training batch 48 Train Loss: 1.0426 Val Loss: 7.3119 Train Accuracy: 0.6687 Val Accuracy: 0.3500\n",
      "Completed training batch 49 Train Loss: 1.0485 Val Loss: 7.2498 Train Accuracy: 0.6813 Val Accuracy: 0.3625\n",
      "Completed training batch 50 Train Loss: 1.0355 Val Loss: 6.9300 Train Accuracy: 0.6719 Val Accuracy: 0.3875\n",
      "Completed training batch 51 Train Loss: 1.1494 Val Loss: 6.7067 Train Accuracy: 0.6750 Val Accuracy: 0.3625\n",
      "Completed training batch 52 Train Loss: 0.9912 Val Loss: 6.4612 Train Accuracy: 0.6875 Val Accuracy: 0.3750\n",
      "Completed training batch 53 Train Loss: 0.9364 Val Loss: 6.5454 Train Accuracy: 0.6938 Val Accuracy: 0.3500\n",
      "Completed training batch 54 Train Loss: 1.0174 Val Loss: 6.5877 Train Accuracy: 0.6656 Val Accuracy: 0.3750\n",
      "Completed training batch 55 Train Loss: 0.9693 Val Loss: 6.9521 Train Accuracy: 0.6750 Val Accuracy: 0.3750\n",
      "Completed training batch 56 Train Loss: 0.9718 Val Loss: 7.6911 Train Accuracy: 0.6750 Val Accuracy: 0.3875\n",
      "Completed training batch 57 Train Loss: 0.9187 Val Loss: 8.3858 Train Accuracy: 0.6844 Val Accuracy: 0.3750\n",
      "Completed training batch 58 Train Loss: 0.9393 Val Loss: 8.7198 Train Accuracy: 0.7156 Val Accuracy: 0.3750\n",
      "Early Stopping\n",
      "Finished Training\n"
     ]
    },
    {
     "data": {
      "image/png": "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\n",
      "text/plain": [
       "<Figure size 640x480 with 1 Axes>"
      ]
     },
     "metadata": {},
     "output_type": "display_data"
    },
    {
     "name": "stdout",
     "output_type": "stream",
     "text": [
      "Fold 5 runtime: 261.1837348937988\n"
     ]
    }
   ],
   "source": [
    "net = PAPER()\n",
    "criterion = nn.CrossEntropyLoss()\n",
    "optimizer = torch.optim.Adam(net.parameters(), lr=0.001)\n",
    "# scheduler = ReduceLROnPlateau(optimizer, 'min', patience=5)\n",
    "\n",
    "net.to(device)\n",
    "print(device)\n",
    "\n",
    "# the train_cv function needs (num_epochs, df, model, model_name, transformations, n_folds = 5)\n",
    "name = 'PAPER_MFCC_MEL'\n",
    "train_loss_dict, val_loss_dict, batch_runtimes, mean_accuracy = train_cv(100, esc50_human, net, name, transform_mfcc)"
   ]
  },
  {
   "cell_type": "code",
   "execution_count": 202,
   "id": "2a93e606",
   "metadata": {},
   "outputs": [
    {
     "name": "stdout",
     "output_type": "stream",
     "text": [
      "Mean runtime per fold (s): 256.0\n",
      "Mean val accuracy: 0.4\n"
     ]
    }
   ],
   "source": [
    "print(f\"Mean runtime per fold (s): {np.round(np.mean(batch_runtimes))}\")\n",
    "print(f\"Mean val accuracy: {np.round(mean_accuracy, 2)}\")"
   ]
  },
  {
   "cell_type": "code",
   "execution_count": null,
   "id": "bd37a7f5",
   "metadata": {},
   "outputs": [],
   "source": []
  }
 ],
 "metadata": {
  "accelerator": "GPU",
  "colab": {
   "include_colab_link": true,
   "provenance": [],
   "toc_visible": true
  },
  "gpuClass": "standard",
  "kernelspec": {
   "display_name": "Python 3 (ipykernel)",
   "language": "python",
   "name": "python3"
  },
  "language_info": {
   "codemirror_mode": {
    "name": "ipython",
    "version": 3
   },
   "file_extension": ".py",
   "mimetype": "text/x-python",
   "name": "python",
   "nbconvert_exporter": "python",
   "pygments_lexer": "ipython3",
   "version": "3.10.6"
  }
 },
 "nbformat": 4,
 "nbformat_minor": 5
}
