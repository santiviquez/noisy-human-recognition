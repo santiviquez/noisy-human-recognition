{
 "cells": [
  {
   "cell_type": "markdown",
   "id": "5e2b4e31",
   "metadata": {
    "colab_type": "text",
    "id": "view-in-github"
   },
   "source": [
    "<a href=\"https://colab.research.google.com/github/santiviquez/noisy-human-recognition/blob/main/sound_classification.ipynb\" target=\"_parent\"><img src=\"https://colab.research.google.com/assets/colab-badge.svg\" alt=\"Open In Colab\"/></a>"
   ]
  },
  {
   "cell_type": "markdown",
   "id": "d3ce7514",
   "metadata": {
    "id": "d3ce7514"
   },
   "source": [
    "# NN Experiments"
   ]
  },
  {
   "cell_type": "markdown",
   "id": "517954d9",
   "metadata": {
    "id": "517954d9"
   },
   "source": [
    "## Dependencies"
   ]
  },
  {
   "cell_type": "code",
   "execution_count": 3,
   "id": "03492430",
   "metadata": {
    "id": "03492430"
   },
   "outputs": [],
   "source": [
    "import os\n",
    "import shutil\n",
    "import urllib.request\n",
    "import zipfile\n",
    "import glob\n",
    "import pandas as pd\n",
    "import numpy as np\n",
    "import IPython.display\n",
    "import matplotlib.pyplot as plt\n",
    "import numpy as np\n",
    "import wave\n",
    "import sys\n",
    "import librosa\n",
    "import librosa.display\n",
    "from sklearn.ensemble import RandomForestClassifier\n",
    "from sklearn.model_selection import GridSearchCV\n",
    "from sklearn.metrics import accuracy_score\n",
    "from sklearn import svm\n",
    "import xgboost as xgb\n",
    "import time\n",
    "import seaborn as sns"
   ]
  },
  {
   "cell_type": "markdown",
   "id": "91a8e613",
   "metadata": {
    "id": "91a8e613"
   },
   "source": [
    "## Download Dataset"
   ]
  },
  {
   "cell_type": "code",
   "execution_count": 4,
   "id": "75507a5b",
   "metadata": {
    "id": "75507a5b"
   },
   "outputs": [],
   "source": [
    "def download_dataset(name):\n",
    "    \"\"\"\n",
    "    Download the dataset into current working directory.\n",
    "    \n",
    "    Originally taken from https://nbviewer.org/github/karoldvl/paper-2015-esc-dataset/blob/\n",
    "    master/Notebook/ESC-Dataset-for-Environmental-Sound-Classification.ipynb#Setup\n",
    "    Additional modifications were applied to make it work with Python 3\n",
    "    \"\"\"\n",
    "    if not os.path.exists(name):\n",
    "        os.mkdir(name)\n",
    "        urllib.request.urlretrieve(f'https://github.com/karoldvl/{name}/archive/master.zip', f'{name}/{name}.zip')\n",
    "\n",
    "        with zipfile.ZipFile(f'{name}/{name}.zip') as package:\n",
    "            package.extractall(f'{name}/')\n",
    "\n",
    "        os.unlink(f'{name}/{name}.zip')        \n",
    "\n",
    "        for src in glob.glob(f'{name}/{name}-master/*'):\n",
    "            shutil.move(src, '{0}/{1}'.format(name, os.path.basename(src)))\n",
    "\n",
    "        shutil.rmtree(f'{name}/{name}-master')\n",
    "\n",
    "download_dataset('ESC-50')"
   ]
  },
  {
   "cell_type": "code",
   "execution_count": 5,
   "id": "e7a4f71c",
   "metadata": {
    "colab": {
     "base_uri": "https://localhost:8080/"
    },
    "id": "e7a4f71c",
    "outputId": "d6b16cc5-46a1-4014-b25a-1ccf4a5a1ccd"
   },
   "outputs": [
    {
     "name": "stdout",
     "output_type": "stream",
     "text": [
      "LICENSE           \u001b[1m\u001b[36maudio\u001b[m\u001b[m/            \u001b[1m\u001b[36mmeta\u001b[m\u001b[m/             requirements.txt\r\n",
      "README.md         esc50.gif         pytest.ini        \u001b[1m\u001b[36mtests\u001b[m\u001b[m/\r\n"
     ]
    }
   ],
   "source": [
    "ls ESC-50"
   ]
  },
  {
   "cell_type": "markdown",
   "id": "06f38dc3",
   "metadata": {
    "id": "06f38dc3"
   },
   "source": [
    "## Sample Dataset: Non-Speech Human Sounds"
   ]
  },
  {
   "cell_type": "markdown",
   "id": "f7a638a9",
   "metadata": {
    "id": "f7a638a9"
   },
   "source": [
    "In this project we are going to fucus at identifying non-speech human sounds. Such as: `crying_baby`, `sneezing`, `clapping`, etc. So we are going to filter these categories from the main esc50 dataset."
   ]
  },
  {
   "cell_type": "code",
   "execution_count": 6,
   "id": "90a5da9a",
   "metadata": {
    "id": "90a5da9a"
   },
   "outputs": [],
   "source": [
    "esc50 = pd.read_csv(\"ESC-50/meta/esc50.csv\")\n",
    "\n",
    "human_cats = ['crying_baby', 'sneezing', 'clapping', \n",
    "              'breathing', 'coughing', 'footsteps', \n",
    "              'laughing', 'brushing_teeth', 'snoring', \n",
    "              'drinking_sipping']\n",
    "\n",
    "esc50_human = esc50[esc50[\"category\"].isin(human_cats)].reset_index(drop=True)\n",
    "esc50_human['old_target'] = esc50_human['target']\n",
    "\n",
    "new_classes = [i for i in range(10)]\n",
    "old_classes = esc50_human.target.drop_duplicates().values\n",
    "map_old_new_classes = dict(zip(old_classes, new_classes))\n",
    "\n",
    "#esc50_human = esc50[esc50[\"category\"].isin(human_cats)].reset_index(drop=True)\n",
    "#esc50_human['old_target'] = esc50_human['target']\n",
    "esc50_human = esc50_human.replace({\"target\": map_old_new_classes})"
   ]
  },
  {
   "cell_type": "code",
   "execution_count": 7,
   "id": "67c33a8c",
   "metadata": {
    "colab": {
     "base_uri": "https://localhost:8080/",
     "height": 206
    },
    "id": "67c33a8c",
    "outputId": "bfe31a4c-0545-4c95-999c-3cae6b400514"
   },
   "outputs": [
    {
     "data": {
      "text/html": [
       "<div>\n",
       "<style scoped>\n",
       "    .dataframe tbody tr th:only-of-type {\n",
       "        vertical-align: middle;\n",
       "    }\n",
       "\n",
       "    .dataframe tbody tr th {\n",
       "        vertical-align: top;\n",
       "    }\n",
       "\n",
       "    .dataframe thead th {\n",
       "        text-align: right;\n",
       "    }\n",
       "</style>\n",
       "<table border=\"1\" class=\"dataframe\">\n",
       "  <thead>\n",
       "    <tr style=\"text-align: right;\">\n",
       "      <th></th>\n",
       "      <th>filename</th>\n",
       "      <th>fold</th>\n",
       "      <th>target</th>\n",
       "      <th>category</th>\n",
       "      <th>esc10</th>\n",
       "      <th>src_file</th>\n",
       "      <th>take</th>\n",
       "      <th>old_target</th>\n",
       "    </tr>\n",
       "  </thead>\n",
       "  <tbody>\n",
       "    <tr>\n",
       "      <th>0</th>\n",
       "      <td>1-104089-A-22.wav</td>\n",
       "      <td>1</td>\n",
       "      <td>0</td>\n",
       "      <td>clapping</td>\n",
       "      <td>False</td>\n",
       "      <td>104089</td>\n",
       "      <td>A</td>\n",
       "      <td>22</td>\n",
       "    </tr>\n",
       "    <tr>\n",
       "      <th>1</th>\n",
       "      <td>1-104089-B-22.wav</td>\n",
       "      <td>1</td>\n",
       "      <td>0</td>\n",
       "      <td>clapping</td>\n",
       "      <td>False</td>\n",
       "      <td>104089</td>\n",
       "      <td>B</td>\n",
       "      <td>22</td>\n",
       "    </tr>\n",
       "    <tr>\n",
       "      <th>2</th>\n",
       "      <td>1-105224-A-22.wav</td>\n",
       "      <td>1</td>\n",
       "      <td>0</td>\n",
       "      <td>clapping</td>\n",
       "      <td>False</td>\n",
       "      <td>105224</td>\n",
       "      <td>A</td>\n",
       "      <td>22</td>\n",
       "    </tr>\n",
       "    <tr>\n",
       "      <th>3</th>\n",
       "      <td>1-110537-A-22.wav</td>\n",
       "      <td>1</td>\n",
       "      <td>0</td>\n",
       "      <td>clapping</td>\n",
       "      <td>False</td>\n",
       "      <td>110537</td>\n",
       "      <td>A</td>\n",
       "      <td>22</td>\n",
       "    </tr>\n",
       "    <tr>\n",
       "      <th>4</th>\n",
       "      <td>1-115920-A-22.wav</td>\n",
       "      <td>1</td>\n",
       "      <td>0</td>\n",
       "      <td>clapping</td>\n",
       "      <td>False</td>\n",
       "      <td>115920</td>\n",
       "      <td>A</td>\n",
       "      <td>22</td>\n",
       "    </tr>\n",
       "  </tbody>\n",
       "</table>\n",
       "</div>"
      ],
      "text/plain": [
       "            filename  fold  target  category  esc10  src_file take  old_target\n",
       "0  1-104089-A-22.wav     1       0  clapping  False    104089    A          22\n",
       "1  1-104089-B-22.wav     1       0  clapping  False    104089    B          22\n",
       "2  1-105224-A-22.wav     1       0  clapping  False    105224    A          22\n",
       "3  1-110537-A-22.wav     1       0  clapping  False    110537    A          22\n",
       "4  1-115920-A-22.wav     1       0  clapping  False    115920    A          22"
      ]
     },
     "execution_count": 7,
     "metadata": {},
     "output_type": "execute_result"
    }
   ],
   "source": [
    "esc50_human.head()"
   ]
  },
  {
   "cell_type": "markdown",
   "id": "4856d759",
   "metadata": {
    "id": "4856d759"
   },
   "source": [
    "`X_train` has a shape of `(320, 13, 431)` meaning that we have 320 examples of shape `(13, 431)` we can think about each example as an image of that size."
   ]
  },
  {
   "cell_type": "markdown",
   "id": "ee8b8cb3",
   "metadata": {
    "id": "ee8b8cb3"
   },
   "source": [
    "## Data Preparation for NN"
   ]
  },
  {
   "cell_type": "code",
   "execution_count": 8,
   "id": "83d191e6",
   "metadata": {
    "colab": {
     "base_uri": "https://localhost:8080/"
    },
    "id": "83d191e6",
    "outputId": "33ad45b2-844d-4fde-be6a-dba04bc3b96e"
   },
   "outputs": [
    {
     "name": "stdout",
     "output_type": "stream",
     "text": [
      "Requirement already satisfied: torchaudio_augmentations in /Users/santiago/opt/anaconda3/envs/ml/lib/python3.10/site-packages (0.2.4)\n",
      "Requirement already satisfied: wavaugment in /Users/santiago/opt/anaconda3/envs/ml/lib/python3.10/site-packages (from torchaudio_augmentations) (0.2)\n",
      "Requirement already satisfied: torchaudio in /Users/santiago/opt/anaconda3/envs/ml/lib/python3.10/site-packages (from torchaudio_augmentations) (0.13.1)\n",
      "Requirement already satisfied: numpy in /Users/santiago/opt/anaconda3/envs/ml/lib/python3.10/site-packages (from torchaudio_augmentations) (1.23.5)\n",
      "Requirement already satisfied: julius in /Users/santiago/opt/anaconda3/envs/ml/lib/python3.10/site-packages (from torchaudio_augmentations) (0.2.7)\n",
      "Requirement already satisfied: torch-pitch-shift in /Users/santiago/opt/anaconda3/envs/ml/lib/python3.10/site-packages (from torchaudio_augmentations) (1.2.2)\n",
      "Requirement already satisfied: torch in /Users/santiago/opt/anaconda3/envs/ml/lib/python3.10/site-packages (from torchaudio_augmentations) (1.13.1)\n",
      "Requirement already satisfied: typing_extensions in /Users/santiago/opt/anaconda3/envs/ml/lib/python3.10/site-packages (from torch->torchaudio_augmentations) (4.1.1)\n",
      "Requirement already satisfied: primePy>=1.3 in /Users/santiago/opt/anaconda3/envs/ml/lib/python3.10/site-packages (from torch-pitch-shift->torchaudio_augmentations) (1.3)\n",
      "Requirement already satisfied: packaging>=21.3 in /Users/santiago/opt/anaconda3/envs/ml/lib/python3.10/site-packages (from torch-pitch-shift->torchaudio_augmentations) (21.3)\n",
      "Requirement already satisfied: pyparsing!=3.0.5,>=2.0.2 in /Users/santiago/opt/anaconda3/envs/ml/lib/python3.10/site-packages (from packaging>=21.3->torch-pitch-shift->torchaudio_augmentations) (3.0.9)\n",
      "Note: you may need to restart the kernel to use updated packages.\n"
     ]
    }
   ],
   "source": [
    "%pip install torchaudio_augmentations # for google-colab\n",
    "import torch\n",
    "from torch.utils.data import Dataset, DataLoader\n",
    "import torch.nn as nn\n",
    "import torch.nn.functional as F\n",
    "import torch.optim as optim\n",
    "import torchaudio.transforms as transforms\n",
    "import torchaudio\n",
    "from torch.optim.lr_scheduler import ReduceLROnPlateau\n",
    "import random\n",
    "from torchaudio_augmentations import Compose, ComposeMany, Noise, Gain, PolarityInversion, Delay, HighLowPass, RandomApply\n",
    "\n",
    "# Avoiding nondeterministic algorithms for reproducibility purposes\n",
    "torch.use_deterministic_algorithms(False)\n",
    "random.seed(0)\n",
    "np.random.seed(0)\n",
    "device = 'cuda' if torch.cuda.is_available() else 'cpu'"
   ]
  },
  {
   "cell_type": "code",
   "execution_count": 9,
   "id": "cc58efb2",
   "metadata": {
    "colab": {
     "base_uri": "https://localhost:8080/"
    },
    "id": "cc58efb2",
    "outputId": "27cb5613-9c9a-44e5-91ef-90163c19c1ed"
   },
   "outputs": [
    {
     "data": {
      "text/plain": [
       "<torch._C.Generator at 0x7f91bca59f10>"
      ]
     },
     "execution_count": 9,
     "metadata": {},
     "output_type": "execute_result"
    }
   ],
   "source": [
    "def seed_worker(worker_id):\n",
    "    worker_seed = torch.initial_seed() % 2**32\n",
    "    numpy.random.seed(worker_seed)\n",
    "    random.seed(worker_seed)\n",
    "\n",
    "g = torch.Generator()\n",
    "g.manual_seed(42)\n",
    "torch.manual_seed(42)"
   ]
  },
  {
   "cell_type": "code",
   "execution_count": 10,
   "id": "10b0009a",
   "metadata": {
    "id": "10b0009a"
   },
   "outputs": [],
   "source": [
    "def get_dataloader_dict(df):\n",
    "    dataloader_dict = {}\n",
    "    for i, row in df.iterrows():  \n",
    "        filename = row[\"filename\"]\n",
    "        fold = int(row[\"fold\"])\n",
    "        target = row[\"target\"]\n",
    "        category = row[\"category\"]\n",
    "        \n",
    "        waveform, sample_rate = torchaudio.load(\"ESC-50/audio/\" + filename, normalize=True)\n",
    "        dataloader_dict[i] = {\"filename\":filename, \"data\":waveform, \"target\":target, \"category\":category,\"fold\":fold}\n",
    "    return dataloader_dict"
   ]
  },
  {
   "cell_type": "code",
   "execution_count": 11,
   "id": "cb964029",
   "metadata": {
    "id": "cb964029"
   },
   "outputs": [],
   "source": [
    "def train_val_loader(dic, fold):\n",
    "    X_val = []\n",
    "    X_train = []\n",
    "    y_val = []\n",
    "    y_train = []\n",
    "\n",
    "    for id, subj in dic.items():\n",
    "\n",
    "        if subj[\"fold\"]!=fold:\n",
    "            X_train.append(subj['data'])\n",
    "            y_train.append(subj['target'])\n",
    "                \n",
    "        if subj[\"fold\"]==fold:\n",
    "            X_val.append(subj['data'])\n",
    "            y_val.append(subj['target'])\n",
    "    \n",
    "    return X_train, np.array(y_train), X_val, np.array(y_val)"
   ]
  },
  {
   "cell_type": "code",
   "execution_count": 12,
   "id": "9a13331f",
   "metadata": {
    "id": "9a13331f"
   },
   "outputs": [],
   "source": [
    "class ESCHDataset(Dataset):\n",
    "    def __init__(self, data, targets, transform=None):\n",
    "        self.data = data\n",
    "        self.targets = targets\n",
    "        self.transform = transform\n",
    "        \n",
    "    def __getitem__(self, index):\n",
    "        x = self.data[index]\n",
    "        y = self.targets[index]\n",
    "        \n",
    "        if self.transform:\n",
    "            x = self.transform(x)        \n",
    "        return x, y\n",
    "    \n",
    "    def __len__(self):\n",
    "        return len(self.data)"
   ]
  },
  {
   "cell_type": "markdown",
   "id": "f02a7288",
   "metadata": {
    "id": "f02a7288"
   },
   "source": [
    "## Training Functions"
   ]
  },
  {
   "cell_type": "code",
   "execution_count": 13,
   "id": "e4c7796f",
   "metadata": {
    "id": "e4c7796f"
   },
   "outputs": [],
   "source": [
    "# Function to save the model - best model in terms of validation accuracy\n",
    "def save_model(model, model_name): \n",
    "    path = f\"./models/{model_name}_.pth\" \n",
    "    torch.save(model.state_dict(), path)"
   ]
  },
  {
   "cell_type": "code",
   "execution_count": 14,
   "id": "f75e00bd",
   "metadata": {
    "id": "f75e00bd"
   },
   "outputs": [],
   "source": [
    "def reset_weights(m):\n",
    "  '''\n",
    "    Try resetting model weights to avoid\n",
    "    weight leakage.\n",
    "  '''\n",
    "  for layer in m.children():\n",
    "    if hasattr(layer, 'reset_parameters'):\n",
    "        # print(f'Reset trainable parameters of layer = {layer}')\n",
    "        layer.reset_parameters()"
   ]
  },
  {
   "cell_type": "code",
   "execution_count": 15,
   "id": "c26e6093",
   "metadata": {
    "id": "c26e6093"
   },
   "outputs": [],
   "source": [
    "# Class oringinally taken from https://stackoverflow.com/a/73704579\n",
    "class EarlyStopper:\n",
    "    def __init__(self, patience=1, min_delta=0):\n",
    "        self.patience = patience\n",
    "        self.min_delta = min_delta\n",
    "        self.counter = 0\n",
    "        self.min_validation_loss = np.inf\n",
    "\n",
    "    def early_stop(self, validation_loss):\n",
    "        if validation_loss < self.min_validation_loss:\n",
    "            self.min_validation_loss = validation_loss\n",
    "            self.counter = 0\n",
    "        elif validation_loss > (self.min_validation_loss + self.min_delta):\n",
    "            self.counter += 1\n",
    "            if self.counter >= self.patience:\n",
    "                return True\n",
    "        return False"
   ]
  },
  {
   "cell_type": "code",
   "execution_count": 16,
   "id": "89cb8904",
   "metadata": {
    "id": "89cb8904"
   },
   "outputs": [],
   "source": [
    "def train(num_epochs, training_loader, validation_loader, model, model_name_fold, is_augmented):\n",
    "    best_accuracy_value = 0.0\n",
    "    train_loss_list = []\n",
    "    val_loss_list = []\n",
    "    early_stopper = EarlyStopper(patience=10, min_delta=0.1)\n",
    "\n",
    "    \n",
    "    print(\"Begin Training\")\n",
    "    for epoch in range(num_epochs):\n",
    "        running_train_loss = 0.0\n",
    "        running_train_accuracy = 0.0\n",
    "        running_val_loss = 0.0\n",
    "        running_val_accuracy = 0.0\n",
    "        total = 0\n",
    "\n",
    "        # training loop\n",
    "        model.train()\n",
    "        for i, data in enumerate(training_loader, 0):\n",
    "            # get the inputs; data is a list of [inputs, labels]\n",
    "            inputs, labels = data\n",
    "            inputs, labels = inputs.to(device), labels.to(device)\n",
    "            if is_augmented == True:\n",
    "                inputs = torch.flatten(inputs, start_dim=0, end_dim=1)\n",
    "                labels = labels.repeat(5)\n",
    "            #labels = labels.to(torch.long)\n",
    "            #inputs = inputs.to(torch.float32)\n",
    "\n",
    "            # zero the parameter gradients\n",
    "            optimizer.zero_grad()\n",
    "\n",
    "            # forward + backward + optimize\n",
    "            outputs = model(inputs)\n",
    "            train_loss = criterion(outputs, labels)\n",
    "            train_loss.backward()\n",
    "            optimizer.step()\n",
    "\n",
    "            # track train loss\n",
    "            running_train_loss += train_loss.item()\n",
    "            # make predictions on training data\n",
    "            _, train_preds = torch.max(outputs, 1)\n",
    "            # track train f1-score\n",
    "            running_train_accuracy += accuracy_score(labels.cpu(), train_preds.cpu())\n",
    "\n",
    "        # calculate train loss and train accuracy values\n",
    "        train_loss_value = running_train_loss / len(training_loader)\n",
    "        train_accuracy_value = running_train_accuracy / len(training_loader)\n",
    "\n",
    "        # validation loop\n",
    "        model.eval()\n",
    "        with torch.no_grad():\n",
    "            for data in validation_loader:\n",
    "                inputs, labels = data\n",
    "                inputs, labels = inputs.to(device), labels.to(device)\n",
    "                outputs = model(inputs)\n",
    "                val_loss = criterion(outputs, labels)\n",
    "\n",
    "                _, val_preds = torch.max(outputs, 1)\n",
    "                running_val_loss += val_loss.item()\n",
    "                total += outputs.size(0)\n",
    "                running_val_accuracy += accuracy_score(labels.cpu(), val_preds.cpu()) \n",
    "        \n",
    "        # calculate val loss and val f1-score values\n",
    "        val_loss_value = running_val_loss / len(validation_loader)\n",
    "        val_accuracy_value = running_val_accuracy / len(validation_loader)\n",
    "        \n",
    "        # call lr scheduler\n",
    "        scheduler.step(val_loss_value)\n",
    "        print(f\"Current lr:{scheduler.optimizer.param_groups[0]['lr']}\")\n",
    "\n",
    "        # Save model is val f1-score is the best\n",
    "        if val_accuracy_value > best_accuracy_value:\n",
    "            save_model(model, model_name_fold)\n",
    "            best_accuracy_value = val_accuracy_value\n",
    "\n",
    "        # Print the statistics of the epoch \n",
    "        train_loss_list.append(train_loss_value)\n",
    "        val_loss_list.append(val_loss_value)\n",
    "        \n",
    "        # print(f'Current lr: {optimizer.param_groups[0][\"lr\"]}')\n",
    "        print('Completed training batch', epoch, 'Train Loss: %.4f' %train_loss_value, \n",
    "              'Val Loss: %.4f' %val_loss_value, 'Train Accuracy: %.4f' %train_accuracy_value, \n",
    "              'Val Accuracy: %.4f' %val_accuracy_value)\n",
    "        \n",
    "        # stop if val loss has no t decreased in the last (# of patience) epochs\n",
    "        if early_stopper.early_stop(val_loss_value):\n",
    "            print(\"Early Stopping\")\n",
    "            break\n",
    "\n",
    "    print('Finished Training')\n",
    "    \n",
    "    # plot loss for training and validation for the current batch\n",
    "    plt.plot(train_loss_list[0:-1])\n",
    "    plt.plot(val_loss_list[0:-1])\n",
    "    plt.show()\n",
    "    \n",
    "    # pass back the accuracy from the best model\n",
    "    return train_loss_list, val_loss_list, best_accuracy_value"
   ]
  },
  {
   "cell_type": "code",
   "execution_count": 17,
   "id": "4633b105",
   "metadata": {
    "id": "4633b105"
   },
   "outputs": [],
   "source": [
    "# function for cross-validation\n",
    "def train_cv(num_epochs, df, model, model_name, transformations, is_augmented=False, n_folds=5):\n",
    "    '''\n",
    "    Inputs required/define:\n",
    "    - number of training epochs (num_epochs) per fold\n",
    "    - df is input data\n",
    "    - n_folds - use 5-fold cross-validation\n",
    "    - model is the defined model we use for training and validation\n",
    "    - model_name asks for how to save the model\n",
    "    - transformations is a torch.Compose object computing MFCCs / or also augmentations\n",
    "    '''\n",
    "    # to store loss and accuracy of each fold\n",
    "    train_losses = {}\n",
    "    val_losses = {}\n",
    "    batch_times = []\n",
    "    accuracies = []\n",
    "    \n",
    "    # open data\n",
    "    dataloader_dic = get_dataloader_dict(df)\n",
    "    \n",
    "    for i in range(1, n_folds+1):\n",
    "        # reset model weights to avoid weights leakage between folds\n",
    "        model.apply(reset_weights)\n",
    "        \n",
    "        print(f'FOLD # {i}')\n",
    "        model_name_fold = str(model_name) + '_fold_' + str(i)\n",
    "        training_start_time = time.time()\n",
    "        \n",
    "        X_train, y_train, X_val, y_val = train_val_loader(dataloader_dic, fold=i)\n",
    "        \n",
    "        train_dataset = ESCHDataset(X_train, y_train, transform=transformations)\n",
    "        train_loader = DataLoader(train_dataset, batch_size=80, drop_last=True,\n",
    "                                 worker_init_fn=seed_worker, \n",
    "                                 generator=g)\n",
    "        val_dataset = ESCHDataset(X_val, y_val, transform=transform_mfcc)\n",
    "        val_loader = DataLoader(val_dataset, batch_size=80, drop_last=True,\n",
    "                                 worker_init_fn=seed_worker, \n",
    "                                 generator=g)\n",
    "        \n",
    "        # train for current fold of data\n",
    "        # train(num_epochs, training_loader, validation_loader, model, model_name_fold)\n",
    "        train_loss_fold, val_loss_fold, best_accuracy = train(num_epochs, \n",
    "                                                              train_loader, \n",
    "                                                              val_loader, \n",
    "                                                              model, \n",
    "                                                              model_name_fold,\n",
    "                                                              is_augmented)\n",
    "        \n",
    "        # stop time and print total fold runtime \n",
    "        training_stop_time = time.time()\n",
    "        batch_runtime = training_stop_time - training_start_time\n",
    "        batch_times.append(batch_runtime)\n",
    "        \n",
    "        print(f'Fold {i} runtime: {batch_runtime}')\n",
    "        \n",
    "        # plot loss for training and validation\n",
    "        #plt.plot(train_loss_fold[0:-1])\n",
    "        #plt.plot(val_loss_fold[0:-1])\n",
    "        \n",
    "        # save loss and acc in dictionary for later prediction and comparison\n",
    "        train_losses[i] = train_loss_fold\n",
    "        val_losses[i] = val_loss_fold\n",
    "        \n",
    "        # at the end of every fold, appemd the best accuracy \n",
    "        accuracies.append(best_accuracy)\n",
    "      \n",
    "\n",
    "    mean_acc = sum(accuracies)/len(accuracies) # and then return the average over the best models for each fold\n",
    "    \n",
    "    return train_losses, val_losses, batch_times, mean_acc"
   ]
  },
  {
   "cell_type": "markdown",
   "id": "b10e2a29",
   "metadata": {
    "id": "b10e2a29"
   },
   "source": [
    "## Experiments"
   ]
  },
  {
   "cell_type": "code",
   "execution_count": 18,
   "id": "598c1ab9",
   "metadata": {
    "id": "598c1ab9"
   },
   "outputs": [],
   "source": [
    "class CNN(nn.Module):\n",
    "    \n",
    "    def __init__(self):\n",
    "        super().__init__()\n",
    "        self.conv1 = nn.Conv2d(in_channels=1, out_channels=1, kernel_size=(4, 4), stride=1)\n",
    "        self.bn1 = nn.BatchNorm2d(1)\n",
    "        self.pool1 = nn.MaxPool2d(2, 2)\n",
    "        self.fc1 = nn.Linear(in_features=1070, out_features=420)\n",
    "        self.fc2 = nn.Linear(in_features=420, out_features=10)\n",
    "        self.dropout1 = nn.Dropout(0.3)\n",
    "        self.dropout2 = nn.Dropout(0.3)\n",
    "\n",
    "    def forward(self, x):\n",
    "        x = self.pool1(F.relu(self.bn1(self.conv1(x))))\n",
    "        x = self.dropout1(x)\n",
    "        x = torch.flatten(x, 1)\n",
    "        x = F.relu(self.fc1(x))\n",
    "        x = self.dropout2(x)\n",
    "        x = self.fc2(x)\n",
    "        return x"
   ]
  },
  {
   "cell_type": "markdown",
   "id": "41800108",
   "metadata": {
    "id": "41800108"
   },
   "source": [
    "### Simple CNN - Without Data Augmentation"
   ]
  },
  {
   "cell_type": "code",
   "execution_count": 20,
   "id": "a107f965",
   "metadata": {},
   "outputs": [],
   "source": [
    "RATE = 44100\n",
    "transform_mfcc = transforms.MFCC(sample_rate=RATE, \n",
    "                     n_mfcc=13,\n",
    "                     melkwargs={\"n_fft\": 2048, \"hop_length\": 512, \"n_mels\": 60})"
   ]
  },
  {
   "cell_type": "code",
   "execution_count": null,
   "id": "2b3cbf7d",
   "metadata": {
    "colab": {
     "base_uri": "https://localhost:8080/",
     "height": 1000
    },
    "id": "2b3cbf7d",
    "outputId": "49c7954f-70e4-4209-b2f0-a62045ea2efe"
   },
   "outputs": [
    {
     "name": "stdout",
     "output_type": "stream",
     "text": [
      "cuda\n",
      "FOLD # 1\n",
      "Begin Training\n",
      "Completed training batch 0 Train Loss: 2.2307 Val Loss: 2.1187 Train Accuracy: 0.1406 Val Accuracy: 0.2375\n",
      "Completed training batch 1 Train Loss: 1.9777 Val Loss: 2.1498 Train Accuracy: 0.2969 Val Accuracy: 0.2750\n",
      "Completed training batch 2 Train Loss: 1.8021 Val Loss: 2.0883 Train Accuracy: 0.3781 Val Accuracy: 0.2750\n",
      "Completed training batch 3 Train Loss: 1.6572 Val Loss: 2.1633 Train Accuracy: 0.4906 Val Accuracy: 0.2625\n",
      "Completed training batch 4 Train Loss: 1.5616 Val Loss: 2.0853 Train Accuracy: 0.4812 Val Accuracy: 0.2500\n",
      "Completed training batch 5 Train Loss: 1.4469 Val Loss: 2.0924 Train Accuracy: 0.5594 Val Accuracy: 0.2750\n",
      "Completed training batch 6 Train Loss: 1.3512 Val Loss: 2.0602 Train Accuracy: 0.5875 Val Accuracy: 0.2625\n",
      "Completed training batch 7 Train Loss: 1.2505 Val Loss: 2.0570 Train Accuracy: 0.6313 Val Accuracy: 0.2750\n",
      "Completed training batch 8 Train Loss: 1.1586 Val Loss: 2.0539 Train Accuracy: 0.6656 Val Accuracy: 0.2875\n",
      "Completed training batch 9 Train Loss: 1.0692 Val Loss: 2.0470 Train Accuracy: 0.6844 Val Accuracy: 0.3125\n",
      "Completed training batch 10 Train Loss: 0.9839 Val Loss: 2.0382 Train Accuracy: 0.7156 Val Accuracy: 0.2875\n",
      "Completed training batch 11 Train Loss: 0.8985 Val Loss: 2.0370 Train Accuracy: 0.7531 Val Accuracy: 0.3125\n",
      "Completed training batch 12 Train Loss: 0.8161 Val Loss: 2.0438 Train Accuracy: 0.7875 Val Accuracy: 0.3125\n",
      "Completed training batch 13 Train Loss: 0.7339 Val Loss: 2.0628 Train Accuracy: 0.8250 Val Accuracy: 0.3250\n",
      "Completed training batch 14 Train Loss: 0.6509 Val Loss: 2.0568 Train Accuracy: 0.8500 Val Accuracy: 0.3375\n",
      "Completed training batch 15 Train Loss: 0.5704 Val Loss: 2.0927 Train Accuracy: 0.8938 Val Accuracy: 0.3250\n",
      "Completed training batch 16 Train Loss: 0.4924 Val Loss: 2.1089 Train Accuracy: 0.9125 Val Accuracy: 0.3125\n",
      "Completed training batch 17 Train Loss: 0.4202 Val Loss: 2.1740 Train Accuracy: 0.9406 Val Accuracy: 0.3250\n",
      "Completed training batch 18 Train Loss: 0.3546 Val Loss: 2.1980 Train Accuracy: 0.9563 Val Accuracy: 0.3000\n",
      "Completed training batch 19 Train Loss: 0.2914 Val Loss: 2.2421 Train Accuracy: 0.9688 Val Accuracy: 0.3250\n",
      "Completed training batch 20 Train Loss: 0.2418 Val Loss: 2.2723 Train Accuracy: 0.9750 Val Accuracy: 0.3000\n",
      "Completed training batch 21 Train Loss: 0.1935 Val Loss: 2.3218 Train Accuracy: 0.9844 Val Accuracy: 0.3000\n",
      "Completed training batch 22 Train Loss: 0.1616 Val Loss: 2.4283 Train Accuracy: 0.9875 Val Accuracy: 0.3250\n",
      "Completed training batch 23 Train Loss: 0.1287 Val Loss: 2.4251 Train Accuracy: 0.9938 Val Accuracy: 0.2500\n",
      "Completed training batch 24 Train Loss: 0.1084 Val Loss: 2.5778 Train Accuracy: 0.9969 Val Accuracy: 0.2875\n",
      "Completed training batch 25 Train Loss: 0.0860 Val Loss: 2.5644 Train Accuracy: 0.9969 Val Accuracy: 0.2750\n",
      "Completed training batch 26 Train Loss: 0.0710 Val Loss: 2.6222 Train Accuracy: 0.9969 Val Accuracy: 0.2875\n",
      "Early Stopping\n",
      "Finished Training\n"
     ]
    },
    {
     "data": {
      "image/png": "[encoded data removed]",
      "text/plain": [
       "<Figure size 432x288 with 1 Axes>"
      ]
     },
     "metadata": {
      "needs_background": "light"
     },
     "output_type": "display_data"
    },
    {
     "name": "stdout",
     "output_type": "stream",
     "text": [
      "Fold 1 runtime: 43.729655265808105\n",
      "FOLD # 2\n",
      "Begin Training\n",
      "Completed training batch 0 Train Loss: 2.2032 Val Loss: 2.1244 Train Accuracy: 0.1281 Val Accuracy: 0.2750\n",
      "Completed training batch 1 Train Loss: 1.8201 Val Loss: 2.0738 Train Accuracy: 0.3625 Val Accuracy: 0.3000\n",
      "Completed training batch 2 Train Loss: 1.5483 Val Loss: 2.0122 Train Accuracy: 0.4844 Val Accuracy: 0.3000\n",
      "Completed training batch 3 Train Loss: 1.3266 Val Loss: 2.0253 Train Accuracy: 0.5625 Val Accuracy: 0.3125\n",
      "Completed training batch 4 Train Loss: 1.1387 Val Loss: 2.0581 Train Accuracy: 0.6719 Val Accuracy: 0.3125\n",
      "Completed training batch 5 Train Loss: 0.9619 Val Loss: 2.0566 Train Accuracy: 0.7594 Val Accuracy: 0.3375\n",
      "Completed training batch 6 Train Loss: 0.8240 Val Loss: 2.1389 Train Accuracy: 0.7875 Val Accuracy: 0.3375\n",
      "Completed training batch 7 Train Loss: 0.6835 Val Loss: 2.1371 Train Accuracy: 0.8500 Val Accuracy: 0.3625\n",
      "Completed training batch 8 Train Loss: 0.5617 Val Loss: 2.2367 Train Accuracy: 0.8938 Val Accuracy: 0.3500\n",
      "Completed training batch 9 Train Loss: 0.4681 Val Loss: 2.2828 Train Accuracy: 0.9094 Val Accuracy: 0.3750\n",
      "Completed training batch 10 Train Loss: 0.3771 Val Loss: 2.3472 Train Accuracy: 0.9375 Val Accuracy: 0.3375\n",
      "Completed training batch 11 Train Loss: 0.3063 Val Loss: 2.4367 Train Accuracy: 0.9531 Val Accuracy: 0.3875\n",
      "Completed training batch 12 Train Loss: 0.2471 Val Loss: 2.4840 Train Accuracy: 0.9625 Val Accuracy: 0.3875\n",
      "Completed training batch 13 Train Loss: 0.2026 Val Loss: 2.5784 Train Accuracy: 0.9812 Val Accuracy: 0.3750\n",
      "Completed training batch 14 Train Loss: 0.1618 Val Loss: 2.6545 Train Accuracy: 0.9938 Val Accuracy: 0.4000\n",
      "Completed training batch 15 Train Loss: 0.1381 Val Loss: 2.7267 Train Accuracy: 0.9938 Val Accuracy: 0.4125\n",
      "Early Stopping\n",
      "Finished Training\n"
     ]
    },
    {
     "data": {
      "image/png": "[encoded data removed]",
      "text/plain": [
       "<Figure size 432x288 with 1 Axes>"
      ]
     },
     "metadata": {
      "needs_background": "light"
     },
     "output_type": "display_data"
    },
    {
     "name": "stdout",
     "output_type": "stream",
     "text": [
      "Fold 2 runtime: 26.09545636177063\n",
      "FOLD # 3\n",
      "Begin Training\n",
      "Completed training batch 0 Train Loss: 2.2503 Val Loss: 2.1127 Train Accuracy: 0.1562 Val Accuracy: 0.1625\n",
      "Completed training batch 1 Train Loss: 1.8911 Val Loss: 2.0097 Train Accuracy: 0.3500 Val Accuracy: 0.3375\n",
      "Completed training batch 2 Train Loss: 1.5253 Val Loss: 1.9959 Train Accuracy: 0.5219 Val Accuracy: 0.3500\n",
      "Completed training batch 3 Train Loss: 1.2259 Val Loss: 2.0316 Train Accuracy: 0.6156 Val Accuracy: 0.3000\n",
      "Completed training batch 4 Train Loss: 0.9588 Val Loss: 2.0386 Train Accuracy: 0.7156 Val Accuracy: 0.3250\n",
      "Completed training batch 5 Train Loss: 0.7251 Val Loss: 2.0160 Train Accuracy: 0.8156 Val Accuracy: 0.3000\n",
      "Completed training batch 6 Train Loss: 0.5350 Val Loss: 2.0280 Train Accuracy: 0.8906 Val Accuracy: 0.3000\n",
      "Completed training batch 7 Train Loss: 0.3967 Val Loss: 2.0786 Train Accuracy: 0.9469 Val Accuracy: 0.3125\n",
      "Completed training batch 8 Train Loss: 0.2852 Val Loss: 2.1528 Train Accuracy: 0.9656 Val Accuracy: 0.2625\n",
      "Completed training batch 9 Train Loss: 0.2101 Val Loss: 2.2441 Train Accuracy: 0.9750 Val Accuracy: 0.2625\n",
      "Completed training batch 10 Train Loss: 0.1546 Val Loss: 2.3435 Train Accuracy: 0.9875 Val Accuracy: 0.2625\n",
      "Completed training batch 11 Train Loss: 0.1157 Val Loss: 2.4243 Train Accuracy: 0.9969 Val Accuracy: 0.2500\n",
      "Completed training batch 12 Train Loss: 0.0879 Val Loss: 2.5115 Train Accuracy: 1.0000 Val Accuracy: 0.2500\n",
      "Completed training batch 13 Train Loss: 0.0682 Val Loss: 2.5911 Train Accuracy: 1.0000 Val Accuracy: 0.2375\n",
      "Completed training batch 14 Train Loss: 0.0543 Val Loss: 2.6485 Train Accuracy: 1.0000 Val Accuracy: 0.2500\n",
      "Completed training batch 15 Train Loss: 0.0446 Val Loss: 2.7223 Train Accuracy: 1.0000 Val Accuracy: 0.2625\n",
      "Completed training batch 16 Train Loss: 0.0373 Val Loss: 2.7876 Train Accuracy: 1.0000 Val Accuracy: 0.2500\n",
      "Completed training batch 17 Train Loss: 0.0318 Val Loss: 2.8316 Train Accuracy: 1.0000 Val Accuracy: 0.2500\n",
      "Early Stopping\n",
      "Finished Training\n"
     ]
    },
    {
     "data": {
      "image/png": "[encoded data removed]",
      "text/plain": [
       "<Figure size 432x288 with 1 Axes>"
      ]
     },
     "metadata": {
      "needs_background": "light"
     },
     "output_type": "display_data"
    },
    {
     "name": "stdout",
     "output_type": "stream",
     "text": [
      "Fold 3 runtime: 28.355194330215454\n",
      "FOLD # 4\n",
      "Begin Training\n",
      "Completed training batch 0 Train Loss: 2.2439 Val Loss: 2.0512 Train Accuracy: 0.1406 Val Accuracy: 0.2250\n",
      "Completed training batch 1 Train Loss: 2.0089 Val Loss: 2.0651 Train Accuracy: 0.3063 Val Accuracy: 0.2750\n",
      "Completed training batch 2 Train Loss: 1.9061 Val Loss: 2.0013 Train Accuracy: 0.3312 Val Accuracy: 0.2625\n",
      "Completed training batch 3 Train Loss: 1.8012 Val Loss: 1.9673 Train Accuracy: 0.3906 Val Accuracy: 0.2875\n",
      "Completed training batch 4 Train Loss: 1.6934 Val Loss: 1.9764 Train Accuracy: 0.4437 Val Accuracy: 0.2875\n",
      "Completed training batch 5 Train Loss: 1.5744 Val Loss: 1.9309 Train Accuracy: 0.4844 Val Accuracy: 0.3000\n",
      "Completed training batch 6 Train Loss: 1.4646 Val Loss: 1.9250 Train Accuracy: 0.5125 Val Accuracy: 0.2875\n",
      "Completed training batch 7 Train Loss: 1.3763 Val Loss: 1.9531 Train Accuracy: 0.5687 Val Accuracy: 0.2875\n",
      "Completed training batch 8 Train Loss: 1.2886 Val Loss: 1.9770 Train Accuracy: 0.5781 Val Accuracy: 0.2625\n",
      "Completed training batch 9 Train Loss: 1.1934 Val Loss: 1.9724 Train Accuracy: 0.6188 Val Accuracy: 0.2875\n",
      "Completed training batch 10 Train Loss: 1.1128 Val Loss: 1.9692 Train Accuracy: 0.6719 Val Accuracy: 0.2875\n",
      "Completed training batch 11 Train Loss: 1.0241 Val Loss: 1.9997 Train Accuracy: 0.7437 Val Accuracy: 0.2750\n",
      "Completed training batch 12 Train Loss: 0.9383 Val Loss: 2.0163 Train Accuracy: 0.7688 Val Accuracy: 0.2875\n",
      "Completed training batch 13 Train Loss: 0.8615 Val Loss: 2.0164 Train Accuracy: 0.7906 Val Accuracy: 0.3125\n",
      "Completed training batch 14 Train Loss: 0.7903 Val Loss: 2.0457 Train Accuracy: 0.8125 Val Accuracy: 0.2875\n",
      "Completed training batch 15 Train Loss: 0.7255 Val Loss: 2.0812 Train Accuracy: 0.8500 Val Accuracy: 0.3000\n",
      "Completed training batch 16 Train Loss: 0.6590 Val Loss: 2.0927 Train Accuracy: 0.8719 Val Accuracy: 0.3375\n",
      "Completed training batch 17 Train Loss: 0.5873 Val Loss: 2.0979 Train Accuracy: 0.9094 Val Accuracy: 0.3500\n",
      "Completed training batch 18 Train Loss: 0.5211 Val Loss: 2.1255 Train Accuracy: 0.9219 Val Accuracy: 0.3500\n",
      "Completed training batch 19 Train Loss: 0.4707 Val Loss: 2.1159 Train Accuracy: 0.9312 Val Accuracy: 0.3500\n",
      "Completed training batch 20 Train Loss: 0.4105 Val Loss: 2.1316 Train Accuracy: 0.9406 Val Accuracy: 0.3375\n",
      "Completed training batch 21 Train Loss: 0.3606 Val Loss: 2.1491 Train Accuracy: 0.9531 Val Accuracy: 0.3625\n",
      "Completed training batch 22 Train Loss: 0.3064 Val Loss: 2.1763 Train Accuracy: 0.9750 Val Accuracy: 0.3125\n",
      "Completed training batch 23 Train Loss: 0.2735 Val Loss: 2.1960 Train Accuracy: 0.9688 Val Accuracy: 0.3750\n",
      "Early Stopping\n",
      "Finished Training\n"
     ]
    },
    {
     "data": {
      "image/png": "[encoded data removed]",
      "text/plain": [
       "<Figure size 432x288 with 1 Axes>"
      ]
     },
     "metadata": {
      "needs_background": "light"
     },
     "output_type": "display_data"
    },
    {
     "name": "stdout",
     "output_type": "stream",
     "text": [
      "Fold 4 runtime: 38.64576745033264\n",
      "FOLD # 5\n",
      "Begin Training\n",
      "Completed training batch 0 Train Loss: 2.2177 Val Loss: 2.2835 Train Accuracy: 0.1656 Val Accuracy: 0.1375\n",
      "Completed training batch 1 Train Loss: 1.9396 Val Loss: 2.2202 Train Accuracy: 0.2844 Val Accuracy: 0.1750\n",
      "Completed training batch 2 Train Loss: 1.7564 Val Loss: 2.1665 Train Accuracy: 0.4219 Val Accuracy: 0.2500\n",
      "Completed training batch 3 Train Loss: 1.6023 Val Loss: 2.0804 Train Accuracy: 0.5062 Val Accuracy: 0.2875\n",
      "Completed training batch 4 Train Loss: 1.4525 Val Loss: 2.0437 Train Accuracy: 0.5563 Val Accuracy: 0.3000\n",
      "Completed training batch 5 Train Loss: 1.3130 Val Loss: 2.0339 Train Accuracy: 0.5969 Val Accuracy: 0.3500\n",
      "Completed training batch 6 Train Loss: 1.2097 Val Loss: 2.0756 Train Accuracy: 0.6344 Val Accuracy: 0.3000\n",
      "Completed training batch 7 Train Loss: 1.0904 Val Loss: 2.1037 Train Accuracy: 0.6813 Val Accuracy: 0.3375\n",
      "Completed training batch 8 Train Loss: 0.9958 Val Loss: 2.1439 Train Accuracy: 0.7281 Val Accuracy: 0.3250\n",
      "Completed training batch 9 Train Loss: 0.9035 Val Loss: 2.2104 Train Accuracy: 0.7937 Val Accuracy: 0.3125\n",
      "Completed training batch 10 Train Loss: 0.8290 Val Loss: 2.2642 Train Accuracy: 0.8094 Val Accuracy: 0.3000\n",
      "Completed training batch 11 Train Loss: 0.7471 Val Loss: 2.3140 Train Accuracy: 0.8375 Val Accuracy: 0.3000\n",
      "Completed training batch 12 Train Loss: 0.6811 Val Loss: 2.3775 Train Accuracy: 0.8562 Val Accuracy: 0.3000\n",
      "Completed training batch 13 Train Loss: 0.6169 Val Loss: 2.4333 Train Accuracy: 0.8812 Val Accuracy: 0.2750\n",
      "Completed training batch 14 Train Loss: 0.5583 Val Loss: 2.5050 Train Accuracy: 0.8906 Val Accuracy: 0.2750\n",
      "Completed training batch 15 Train Loss: 0.5072 Val Loss: 2.5575 Train Accuracy: 0.9094 Val Accuracy: 0.2625\n",
      "Completed training batch 16 Train Loss: 0.4555 Val Loss: 2.6239 Train Accuracy: 0.9250 Val Accuracy: 0.2500\n",
      "Completed training batch 17 Train Loss: 0.4124 Val Loss: 2.6966 Train Accuracy: 0.9344 Val Accuracy: 0.2750\n",
      "Early Stopping\n",
      "Finished Training\n"
     ]
    },
    {
     "data": {
      "image/png": "[encoded data removed]",
      "text/plain": [
       "<Figure size 432x288 with 1 Axes>"
      ]
     },
     "metadata": {
      "needs_background": "light"
     },
     "output_type": "display_data"
    },
    {
     "name": "stdout",
     "output_type": "stream",
     "text": [
      "Fold 5 runtime: 28.60686731338501\n"
     ]
    }
   ],
   "source": [
    "net = CNN()\n",
    "criterion = nn.CrossEntropyLoss()\n",
    "optimizer = torch.optim.Adam(net.parameters(), lr=0.001)\n",
    "\n",
    "net.to(device)\n",
    "print(device)\n",
    "\n",
    "# the train_cv function needs (num_epochs, df, model, model_name, transformations, n_folds = 5)\n",
    "name = 'CNN_MFCC_baseline_run3'\n",
    "train_loss_dict, val_loss_dict, batch_runtimes, mean_accuracy = train_cv(100, esc50_human, net, name, transform_mfcc)"
   ]
  },
  {
   "cell_type": "code",
   "execution_count": null,
   "id": "305c10fd",
   "metadata": {
    "colab": {
     "base_uri": "https://localhost:8080/"
    },
    "id": "305c10fd",
    "outputId": "984c5ec3-a5bd-47cf-b20e-513b03daa9fe"
   },
   "outputs": [
    {
     "name": "stdout",
     "output_type": "stream",
     "text": [
      "Mean runtime per fold (s): 33.0\n",
      "Mean val accuracy: 0.37\n"
     ]
    }
   ],
   "source": [
    "# show mean validation accuracy over all folds and best epochs\n",
    "print(f\"Mean runtime per fold (s): {np.round(np.mean(batch_runtimes))}\")\n",
    "print(f\"Mean val accuracy: {np.round(mean_accuracy, 2)}\")"
   ]
  },
  {
   "cell_type": "markdown",
   "id": "4f677bc6",
   "metadata": {
    "id": "4f677bc6"
   },
   "source": [
    "### Simple CNN - With Data Augmentation"
   ]
  },
  {
   "cell_type": "code",
   "execution_count": 23,
   "id": "490b57cc",
   "metadata": {
    "colab": {
     "base_uri": "https://localhost:8080/",
     "height": 433
    },
    "id": "490b57cc",
    "outputId": "d22b8f5e-b938-428c-c75b-2a0ab7dbed5f"
   },
   "outputs": [
    {
     "name": "stdout",
     "output_type": "stream",
     "text": [
      "cpu\n",
      "FOLD # 1\n",
      "Begin Training\n",
      "Current lr:0.001\n",
      "Completed training batch 0 Train Loss: 2.3378 Val Loss: 2.3092 Train Accuracy: 0.1075 Val Accuracy: 0.1000\n"
     ]
    },
    {
     "name": "stderr",
     "output_type": "stream",
     "text": [
      "\n",
      "KeyboardInterrupt\n",
      "\n"
     ]
    }
   ],
   "source": [
    "transform = ComposeMany(\n",
    "    [\n",
    "        RandomApply([Noise(min_snr=0.01, max_snr=0.05)], p=0.5),\n",
    "        RandomApply([HighLowPass(sample_rate=RATE)], p=0.5),\n",
    "        RandomApply([Delay(sample_rate=RATE, min_delay=50, max_delay=55)], p=0.5),\n",
    "        transforms.MFCC(sample_rate=RATE, \n",
    "                     n_mfcc=13, \n",
    "                     melkwargs={\"n_fft\": 2048, \"hop_length\": 512, \"n_mels\": 60})\n",
    "    ], num_augmented_samples=5)\n",
    "\n",
    "net = CNN()\n",
    "net.to(device)\n",
    "print(device)\n",
    "\n",
    "criterion = nn.CrossEntropyLoss()\n",
    "optimizer = torch.optim.Adam(net.parameters(), lr=0.001)\n",
    "scheduler = ReduceLROnPlateau(optimizer, 'min', patience=5)\n",
    "# the train_cv function needs (num_epochs, df, model, model_name, transformations, n_folds = 5)\n",
    "name = 'CNN_MFCC_augmented'\n",
    "train_loss_dict, val_loss_dict, batch_runtimes, mean_accuracy = train_cv(100, \n",
    "                                                                         esc50_human, \n",
    "                                                                         net,\n",
    "                                                                         name, \n",
    "                                                                         transform, \n",
    "                                                                         is_augmented=True)"
   ]
  },
  {
   "cell_type": "code",
   "execution_count": null,
   "id": "e7d4e047",
   "metadata": {
    "id": "e7d4e047"
   },
   "outputs": [],
   "source": [
    "# show mean validation accuracy over all folds and best epochs\n",
    "print(f\"Mean runtime per fold (s): {np.round(np.mean(batch_runtimes))}\")\n",
    "print(f\"Mean val accuracy: {np.round(mean_accuracy, 2)}\")"
   ]
  }
 ],
 "metadata": {
  "accelerator": "GPU",
  "colab": {
   "include_colab_link": true,
   "provenance": [],
   "toc_visible": true
  },
  "gpuClass": "standard",
  "kernelspec": {
   "display_name": "Python 3 (ipykernel)",
   "language": "python",
   "name": "python3"
  },
  "language_info": {
   "codemirror_mode": {
    "name": "ipython",
    "version": 3
   },
   "file_extension": ".py",
   "mimetype": "text/x-python",
   "name": "python",
   "nbconvert_exporter": "python",
   "pygments_lexer": "ipython3",
   "version": "3.10.6"
  }
 },
 "nbformat": 4,
 "nbformat_minor": 5
}
